{
 "cells": [
  {
   "cell_type": "code",
   "execution_count": 179,
   "id": "initial_id",
   "metadata": {
    "collapsed": true,
    "ExecuteTime": {
     "end_time": "2024-01-08T12:59:22.942059539Z",
     "start_time": "2024-01-08T12:59:22.901203193Z"
    }
   },
   "outputs": [],
   "source": [
    "import math\n",
    "import random\n",
    "import matplotlib.pyplot as plt\n",
    "import numpy as np\n",
    "import pandas as pd\n",
    "from scipy.stats import lognorm"
   ]
  },
  {
   "cell_type": "code",
   "outputs": [],
   "source": [
    "TYPE_1 = 1\n",
    "TYPE_2 = 2\n",
    "TYPE_3 = 3\n",
    "TYPE_4 = 4\n",
    "\n",
    "ALL_TYPES = [TYPE_1, TYPE_2, TYPE_3, TYPE_4]\n",
    "\n",
    "ROUTE_1 = 1\n",
    "ROUTE_2 = 2\n",
    "ROUTE_3 = 3\n",
    "ROUTE_4 = 4\n",
    "ROUTE_5 = 5\n",
    "\n",
    "ALL_ROUTES = [ROUTE_1, ROUTE_2, ROUTE_3, ROUTE_4, ROUTE_5]\n",
    "\n",
    "class Request:\n",
    "    TYPE_NAME = 'Тип сообщения'\n",
    "    LENGTH_NAME = 'Длина сообщения'\n",
    "    TIME_NAME = 'Время поступления'\n",
    "    DEST_NAME = 'Адрес абонента'\n",
    "    \n",
    "    def __init__(self, typ, length, time, destination):\n",
    "        self.type = typ\n",
    "        self.length = length\n",
    "        self.time = time\n",
    "        self.destination = destination\n",
    "        \n",
    "    def attrs(self):\n",
    "        return [\n",
    "            self.type, \n",
    "            self.length, \n",
    "            self.time, \n",
    "            self.destination\n",
    "        ]\n",
    "    \n",
    "    @classmethod\n",
    "    def attr_names(cls):\n",
    "        return [\n",
    "            cls.TYPE_NAME, \n",
    "            cls.LENGTH_NAME, \n",
    "            cls.TIME_NAME, \n",
    "            cls.DEST_NAME\n",
    "        ]\n",
    "    \n",
    "    def __repr__(self):\n",
    "        return f\"{self.type} {self.length} {self.time} {self.destination}\"\n",
    "    \n",
    "\n",
    "class Router:\n",
    "    routes = {\n",
    "        TYPE_1: [0.66, 0.11, 0.1, 0.01, 0.12],\n",
    "        TYPE_2: [0.22, 0.35, 0.26, 0.08, 0.09],\n",
    "        TYPE_3: [0.58, 0.06, 0.24, 0.02, 0.1],\n",
    "        TYPE_4: [0.42, 0.29, 0.16, 0.1, 0.03],\n",
    "    }\n",
    "\n",
    "    def route(self, request_type):\n",
    "        if request_type not in self.routes:\n",
    "            raise RuntimeError('Unknown request type')\n",
    "        \n",
    "        return np.random.choice(ALL_ROUTES, p=self.routes[request_type])\n",
    "        \n",
    "\n",
    "class RequestGenerator:\n",
    "    TYPES_PROBABILITY = [0.69, 0.06, 0.1, 0.15]\n",
    "    LENGTH_RANGE = (11, 235)\n",
    "    \n",
    "    INCOME_MEDIAN = 0.4\n",
    "    INCOME_VARIANCE = 4.2\n",
    "    \n",
    "    def __init__(self, sample_size):\n",
    "        self.sample_size = sample_size\n",
    "        \n",
    "        rv = lognorm(math.sqrt(self.INCOME_VARIANCE), scale=math.exp(self.INCOME_MEDIAN))\n",
    "        self.income_distribution = iter(rv.rvs(sample_size))\n",
    "        \n",
    "        self.router = Router()\n",
    "        self.samples = []\n",
    "    \n",
    "    def generate_request(self):\n",
    "        request_type = np.random.choice(ALL_TYPES, p=self.TYPES_PROBABILITY)\n",
    "        request_length = random.randrange(*self.LENGTH_RANGE)\n",
    "        request_time = next(self.income_distribution)\n",
    "        request_destination = self.router.route(request_type)\n",
    "        \n",
    "        return Request(\n",
    "            request_type,\n",
    "            request_length,\n",
    "            request_time,\n",
    "            request_destination\n",
    "        )\n",
    "    \n",
    "    def generate_samples(self):\n",
    "        self.samples = [self.generate_request() for _ in range(self.sample_size)]\n",
    "        self.samples = sorted(self.samples, key=lambda request: request.time)\n",
    "        \n",
    "    def as_df(self):\n",
    "        if not self.samples:\n",
    "            raise ValueError(\"Generate samples first.\")\n",
    "        \n",
    "        return pd.DataFrame(\n",
    "            data=[request.attrs() for request in self.samples], \n",
    "            columns=Request.attr_names()\n",
    "        )\n",
    "\n"
   ],
   "metadata": {
    "collapsed": false,
    "ExecuteTime": {
     "end_time": "2024-01-07T17:24:12.615350935Z",
     "start_time": "2024-01-07T17:24:12.574827038Z"
    }
   },
   "id": "b4918949c8f9f700",
   "execution_count": 55
  },
  {
   "cell_type": "code",
   "outputs": [],
   "source": [
    "\n",
    "class QueueAnalyzer:\n",
    "    def __init__(self, generator: RequestGenerator):\n",
    "        self.generator = generator\n",
    "        self.df = generator.as_df()\n",
    "        \n",
    "    def data_table(self):\n",
    "        return self.df\n",
    "    \n",
    "    def plot_distribution(self):\n",
    "        data = self.df[Request.TIME_NAME]\n",
    "\n",
    "        fig, ax1 = plt.subplots()\n",
    "        ax2 = ax1.twinx()\n",
    "        \n",
    "        plt.title('Значения времени поступления и функция плотности вероятности')\n",
    "        \n",
    "        ax1.set_ylabel('Количество заявок', color='skyblue')\n",
    "        ax1.set_xlabel('Время поступления')\n",
    "        \n",
    "        ax2.set_ylabel('Плотность вероятности', color='orange')\n",
    "        ax2.tick_params(axis='y', labelcolor='orange')\n",
    "        \n",
    "        # Оценка параметров распределения lognorm по данным\n",
    "        shape, loc, scale = lognorm.fit(data)\n",
    "        \n",
    "        # Генерация значений для функции плотности вероятности\n",
    "        x_values = np.linspace(min(data), max(data), 1000)\n",
    "        pdf_values = lognorm.pdf(x_values, shape, loc=loc, scale=scale)\n",
    "        \n",
    "        # Гистограмма\n",
    "        hist = ax1.hist(data, bins='auto', color='skyblue', edgecolor='black', alpha=0.7, label='Заявки')\n",
    "        \n",
    "        # Функция плотности вероятности\n",
    "        plot = ax2.plot(x_values, pdf_values, color='orange', label='Функция плотности вероятности (lognorm)')\n",
    "        \n",
    "        lines, labels = ax1.get_legend_handles_labels()\n",
    "        lines2, labels2 = ax2.get_legend_handles_labels()\n",
    "        \n",
    "        ax1.legend(lines + lines2, labels + labels2, loc=0)\n",
    "        ax1.grid()\n",
    "\n",
    "        \n",
    "    def request_type_stat_table(self):\n",
    "        count_per_type = self.df[Request.TYPE_NAME].value_counts().sort_index()\n",
    "        \n",
    "        # Подсчет вероятности появления каждого типа\n",
    "        probability_per_type = count_per_type / self.generator.sample_size\n",
    "        \n",
    "        # Создание DataFrame для результатов\n",
    "        return pd.DataFrame({\n",
    "            'Кол-во заявок данного типа': count_per_type,\n",
    "            'Вероятность появления заявки (полученная)': probability_per_type,\n",
    "            'Вероятность появления заявки (заданная)': RequestGenerator.TYPES_PROBABILITY,\n",
    "        })\n",
    "    \n",
    "    def request_length_stat_table(self):\n",
    "        grouped_by_type = self.df.groupby(Request.TYPE_NAME)\n",
    "        return pd.DataFrame({\n",
    "            'Средняя длина заявки': grouped_by_type[Request.LENGTH_NAME].mean(),\n",
    "            'Предельная длина заявки': grouped_by_type[Request.LENGTH_NAME].max()\n",
    "        })\n",
    "    \n",
    "    def destination_stat_table(self):\n",
    "        grouped = self.df.groupby([Request.DEST_NAME])\n",
    "        time = self.df[Request.TIME_NAME].max()\n",
    "        \n",
    "        print('Max time is', time)\n",
    "        return pd.DataFrame({\n",
    "            'Количество заявок': grouped.size(),\n",
    "            'Средняя частота поступления заявок': grouped.size() / time\n",
    "        })\n",
    "    \n",
    "    def destination_and_type_stat_table(self):\n",
    "        multiindex = pd.MultiIndex.from_product([ALL_TYPES, ALL_ROUTES], names=[Request.TYPE_NAME, Request.DEST_NAME])\n",
    "\n",
    "        grouped = self.df.groupby([Request.TYPE_NAME, Request.DEST_NAME])\n",
    "        \n",
    "        count_per_type_per_address = grouped.size().unstack(fill_value=0)\n",
    "        \n",
    "        total_count_per_address = grouped.size().reset_index(name='Total').groupby(Request.TYPE_NAME)['Total'].sum()\n",
    "        \n",
    "        probability_per_type_per_address = count_per_type_per_address.divide(total_count_per_address, axis=0)\n",
    "         \n",
    "        result_df = pd.DataFrame({\n",
    "            'Число заявок': count_per_type_per_address.values.flatten(),\n",
    "            'Вероятность заявки': probability_per_type_per_address.values.flatten(),\n",
    "        }, index=multiindex)\n",
    "        \n",
    "        theoretical_probabilities = [Router.routes[tp][addr - 1] for tp, addr in result_df.index]\n",
    "        \n",
    "        result_df['Теоретическая вероятность'] = theoretical_probabilities\n",
    "\n",
    "        \n",
    "        return result_df\n",
    "\n",
    "    def request_time_stat_table(self):\n",
    "        grouped = self.df.groupby(Request.TYPE_NAME)\n",
    "\n",
    "        # Подсчет математического ожидания, дисперсии и стандартного отклонения для каждого типа заявок\n",
    "        statistics = grouped[Request.TIME_NAME].agg(['mean', 'var', 'std'])\n",
    "        \n",
    "        count_per_type = grouped.size()\n",
    "        max_time_per_type = grouped[Request.TIME_NAME].max()\n",
    "        \n",
    "        statistics['Интенсивность'] = count_per_type / max_time_per_type\n",
    "        \n",
    "        # Переименование столбцов для ясности\n",
    "        statistics.columns = ['Мат. ожидание', 'Дисперсия', 'Стандартное отклонение', 'Интенсивность']\n",
    "        \n",
    "        return statistics\n",
    "\n",
    "    "
   ],
   "metadata": {
    "collapsed": false,
    "ExecuteTime": {
     "end_time": "2024-01-08T14:29:36.889024367Z",
     "start_time": "2024-01-08T14:29:36.848248973Z"
    }
   },
   "id": "96adc623ffbcccf",
   "execution_count": 373
  },
  {
   "cell_type": "code",
   "outputs": [
    {
     "data": {
      "text/plain": "    Тип сообщения  Длина сообщения  Время поступления  Адрес абонента\n0               1              189           0.007929               1\n1               4              156           0.008278               2\n2               1               74           0.013417               1\n3               1              228           0.017577               5\n4               3               98           0.029475               1\n..            ...              ...                ...             ...\n95              1              103          42.531891               1\n96              1              137          42.642088               3\n97              1              112          45.715833               1\n98              1              169          59.824863               1\n99              1              234          69.645838               1\n\n[100 rows x 4 columns]",
      "text/html": "<div>\n<style scoped>\n    .dataframe tbody tr th:only-of-type {\n        vertical-align: middle;\n    }\n\n    .dataframe tbody tr th {\n        vertical-align: top;\n    }\n\n    .dataframe thead th {\n        text-align: right;\n    }\n</style>\n<table border=\"1\" class=\"dataframe\">\n  <thead>\n    <tr style=\"text-align: right;\">\n      <th></th>\n      <th>Тип сообщения</th>\n      <th>Длина сообщения</th>\n      <th>Время поступления</th>\n      <th>Адрес абонента</th>\n    </tr>\n  </thead>\n  <tbody>\n    <tr>\n      <th>0</th>\n      <td>1</td>\n      <td>189</td>\n      <td>0.007929</td>\n      <td>1</td>\n    </tr>\n    <tr>\n      <th>1</th>\n      <td>4</td>\n      <td>156</td>\n      <td>0.008278</td>\n      <td>2</td>\n    </tr>\n    <tr>\n      <th>2</th>\n      <td>1</td>\n      <td>74</td>\n      <td>0.013417</td>\n      <td>1</td>\n    </tr>\n    <tr>\n      <th>3</th>\n      <td>1</td>\n      <td>228</td>\n      <td>0.017577</td>\n      <td>5</td>\n    </tr>\n    <tr>\n      <th>4</th>\n      <td>3</td>\n      <td>98</td>\n      <td>0.029475</td>\n      <td>1</td>\n    </tr>\n    <tr>\n      <th>...</th>\n      <td>...</td>\n      <td>...</td>\n      <td>...</td>\n      <td>...</td>\n    </tr>\n    <tr>\n      <th>95</th>\n      <td>1</td>\n      <td>103</td>\n      <td>42.531891</td>\n      <td>1</td>\n    </tr>\n    <tr>\n      <th>96</th>\n      <td>1</td>\n      <td>137</td>\n      <td>42.642088</td>\n      <td>3</td>\n    </tr>\n    <tr>\n      <th>97</th>\n      <td>1</td>\n      <td>112</td>\n      <td>45.715833</td>\n      <td>1</td>\n    </tr>\n    <tr>\n      <th>98</th>\n      <td>1</td>\n      <td>169</td>\n      <td>59.824863</td>\n      <td>1</td>\n    </tr>\n    <tr>\n      <th>99</th>\n      <td>1</td>\n      <td>234</td>\n      <td>69.645838</td>\n      <td>1</td>\n    </tr>\n  </tbody>\n</table>\n<p>100 rows × 4 columns</p>\n</div>"
     },
     "execution_count": 376,
     "metadata": {},
     "output_type": "execute_result"
    }
   ],
   "source": [
    "generator = RequestGenerator(100)\n",
    "generator.generate_samples()\n",
    "\n",
    "analyzer = QueueAnalyzer(generator)\n",
    "\n",
    "# Таблица 1. Полученные заявки.\n",
    "analyzer.data_table()"
   ],
   "metadata": {
    "collapsed": false,
    "ExecuteTime": {
     "end_time": "2024-01-08T14:29:42.562931805Z",
     "start_time": "2024-01-08T14:29:42.545828995Z"
    }
   },
   "id": "1ddd403f86279e9d",
   "execution_count": 376
  },
  {
   "cell_type": "code",
   "outputs": [
    {
     "data": {
      "text/plain": "<Figure size 640x480 with 2 Axes>",
      "image/png": "[encoded data removed]"
     },
     "metadata": {},
     "output_type": "display_data"
    }
   ],
   "source": [
    "# Рисунок 2. Значения времени поступления и функция плотности вероятности\n",
    "analyzer.plot_distribution()"
   ],
   "metadata": {
    "collapsed": false,
    "ExecuteTime": {
     "end_time": "2024-01-08T14:29:44.724719899Z",
     "start_time": "2024-01-08T14:29:44.495774720Z"
    }
   },
   "id": "9050cc5d7602807b",
   "execution_count": 377
  },
  {
   "cell_type": "code",
   "outputs": [
    {
     "data": {
      "text/plain": "               Кол-во заявок данного типа  \\\nТип сообщения                               \n1                                      62   \n2                                      12   \n3                                      11   \n4                                      15   \n\n               Вероятность появления заявки (полученная)  \\\nТип сообщения                                              \n1                                                   0.62   \n2                                                   0.12   \n3                                                   0.11   \n4                                                   0.15   \n\n               Вероятность появления заявки (заданная)  \nТип сообщения                                           \n1                                                 0.69  \n2                                                 0.06  \n3                                                 0.10  \n4                                                 0.15  ",
      "text/html": "<div>\n<style scoped>\n    .dataframe tbody tr th:only-of-type {\n        vertical-align: middle;\n    }\n\n    .dataframe tbody tr th {\n        vertical-align: top;\n    }\n\n    .dataframe thead th {\n        text-align: right;\n    }\n</style>\n<table border=\"1\" class=\"dataframe\">\n  <thead>\n    <tr style=\"text-align: right;\">\n      <th></th>\n      <th>Кол-во заявок данного типа</th>\n      <th>Вероятность появления заявки (полученная)</th>\n      <th>Вероятность появления заявки (заданная)</th>\n    </tr>\n    <tr>\n      <th>Тип сообщения</th>\n      <th></th>\n      <th></th>\n      <th></th>\n    </tr>\n  </thead>\n  <tbody>\n    <tr>\n      <th>1</th>\n      <td>62</td>\n      <td>0.62</td>\n      <td>0.69</td>\n    </tr>\n    <tr>\n      <th>2</th>\n      <td>12</td>\n      <td>0.12</td>\n      <td>0.06</td>\n    </tr>\n    <tr>\n      <th>3</th>\n      <td>11</td>\n      <td>0.11</td>\n      <td>0.10</td>\n    </tr>\n    <tr>\n      <th>4</th>\n      <td>15</td>\n      <td>0.15</td>\n      <td>0.15</td>\n    </tr>\n  </tbody>\n</table>\n</div>"
     },
     "execution_count": 378,
     "metadata": {},
     "output_type": "execute_result"
    }
   ],
   "source": [
    "# Таблица 2. Сравнение вероятностей появления сообщений (заданная и полученная).\n",
    "analyzer.request_type_stat_table()"
   ],
   "metadata": {
    "collapsed": false,
    "ExecuteTime": {
     "end_time": "2024-01-08T14:29:47.141354606Z",
     "start_time": "2024-01-08T14:29:47.122116300Z"
    }
   },
   "id": "d88fa9b349d15e87",
   "execution_count": 378
  },
  {
   "cell_type": "code",
   "outputs": [
    {
     "data": {
      "text/plain": "               Средняя длина заявки  Предельная длина заявки\nТип сообщения                                               \n1                        110.064516                      234\n2                        130.416667                      185\n3                        142.909091                      228\n4                        117.200000                      221",
      "text/html": "<div>\n<style scoped>\n    .dataframe tbody tr th:only-of-type {\n        vertical-align: middle;\n    }\n\n    .dataframe tbody tr th {\n        vertical-align: top;\n    }\n\n    .dataframe thead th {\n        text-align: right;\n    }\n</style>\n<table border=\"1\" class=\"dataframe\">\n  <thead>\n    <tr style=\"text-align: right;\">\n      <th></th>\n      <th>Средняя длина заявки</th>\n      <th>Предельная длина заявки</th>\n    </tr>\n    <tr>\n      <th>Тип сообщения</th>\n      <th></th>\n      <th></th>\n    </tr>\n  </thead>\n  <tbody>\n    <tr>\n      <th>1</th>\n      <td>110.064516</td>\n      <td>234</td>\n    </tr>\n    <tr>\n      <th>2</th>\n      <td>130.416667</td>\n      <td>185</td>\n    </tr>\n    <tr>\n      <th>3</th>\n      <td>142.909091</td>\n      <td>228</td>\n    </tr>\n    <tr>\n      <th>4</th>\n      <td>117.200000</td>\n      <td>221</td>\n    </tr>\n  </tbody>\n</table>\n</div>"
     },
     "execution_count": 379,
     "metadata": {},
     "output_type": "execute_result"
    }
   ],
   "source": [
    "# Таблица 3. Сравнение средней длины заявки.\n",
    "analyzer.request_length_stat_table()"
   ],
   "metadata": {
    "collapsed": false,
    "ExecuteTime": {
     "end_time": "2024-01-08T14:29:48.682920985Z",
     "start_time": "2024-01-08T14:29:48.670682482Z"
    }
   },
   "id": "d1072d694641ff8e",
   "execution_count": 379
  },
  {
   "cell_type": "code",
   "outputs": [
    {
     "name": "stdout",
     "output_type": "stream",
     "text": [
      "Max time is 69.64583754450966\n"
     ]
    },
    {
     "data": {
      "text/plain": "                Количество заявок  Средняя частота поступления заявок\nАдрес абонента                                                       \n1                              61                            0.875860\n2                               8                            0.114867\n3                              15                            0.215375\n4                               5                            0.071792\n5                              11                            0.157942",
      "text/html": "<div>\n<style scoped>\n    .dataframe tbody tr th:only-of-type {\n        vertical-align: middle;\n    }\n\n    .dataframe tbody tr th {\n        vertical-align: top;\n    }\n\n    .dataframe thead th {\n        text-align: right;\n    }\n</style>\n<table border=\"1\" class=\"dataframe\">\n  <thead>\n    <tr style=\"text-align: right;\">\n      <th></th>\n      <th>Количество заявок</th>\n      <th>Средняя частота поступления заявок</th>\n    </tr>\n    <tr>\n      <th>Адрес абонента</th>\n      <th></th>\n      <th></th>\n    </tr>\n  </thead>\n  <tbody>\n    <tr>\n      <th>1</th>\n      <td>61</td>\n      <td>0.875860</td>\n    </tr>\n    <tr>\n      <th>2</th>\n      <td>8</td>\n      <td>0.114867</td>\n    </tr>\n    <tr>\n      <th>3</th>\n      <td>15</td>\n      <td>0.215375</td>\n    </tr>\n    <tr>\n      <th>4</th>\n      <td>5</td>\n      <td>0.071792</td>\n    </tr>\n    <tr>\n      <th>5</th>\n      <td>11</td>\n      <td>0.157942</td>\n    </tr>\n  </tbody>\n</table>\n</div>"
     },
     "execution_count": 380,
     "metadata": {},
     "output_type": "execute_result"
    }
   ],
   "source": [
    "# Таблица 4. Средняя частота поступления заявок.\n",
    "analyzer.destination_stat_table()"
   ],
   "metadata": {
    "collapsed": false,
    "ExecuteTime": {
     "end_time": "2024-01-08T14:29:50.296767901Z",
     "start_time": "2024-01-08T14:29:50.278823148Z"
    }
   },
   "id": "c0fadad57eca05bc",
   "execution_count": 380
  },
  {
   "cell_type": "code",
   "outputs": [
    {
     "data": {
      "text/plain": "                              Число заявок  Вероятность заявки  \\\nТип сообщения Адрес абонента                                     \n1             1                         41            0.661290   \n              2                          4            0.064516   \n              3                          7            0.112903   \n              4                          1            0.016129   \n              5                          9            0.145161   \n2             1                          4            0.333333   \n              2                          1            0.083333   \n              3                          4            0.333333   \n              4                          2            0.166667   \n              5                          1            0.083333   \n3             1                          9            0.818182   \n              2                          0            0.000000   \n              3                          1            0.090909   \n              4                          0            0.000000   \n              5                          1            0.090909   \n4             1                          7            0.466667   \n              2                          3            0.200000   \n              3                          3            0.200000   \n              4                          2            0.133333   \n              5                          0            0.000000   \n\n                              Теоретическая вероятность  \nТип сообщения Адрес абонента                             \n1             1                                    0.66  \n              2                                    0.11  \n              3                                    0.10  \n              4                                    0.01  \n              5                                    0.12  \n2             1                                    0.22  \n              2                                    0.35  \n              3                                    0.26  \n              4                                    0.08  \n              5                                    0.09  \n3             1                                    0.58  \n              2                                    0.06  \n              3                                    0.24  \n              4                                    0.02  \n              5                                    0.10  \n4             1                                    0.42  \n              2                                    0.29  \n              3                                    0.16  \n              4                                    0.10  \n              5                                    0.03  ",
      "text/html": "<div>\n<style scoped>\n    .dataframe tbody tr th:only-of-type {\n        vertical-align: middle;\n    }\n\n    .dataframe tbody tr th {\n        vertical-align: top;\n    }\n\n    .dataframe thead th {\n        text-align: right;\n    }\n</style>\n<table border=\"1\" class=\"dataframe\">\n  <thead>\n    <tr style=\"text-align: right;\">\n      <th></th>\n      <th></th>\n      <th>Число заявок</th>\n      <th>Вероятность заявки</th>\n      <th>Теоретическая вероятность</th>\n    </tr>\n    <tr>\n      <th>Тип сообщения</th>\n      <th>Адрес абонента</th>\n      <th></th>\n      <th></th>\n      <th></th>\n    </tr>\n  </thead>\n  <tbody>\n    <tr>\n      <th rowspan=\"5\" valign=\"top\">1</th>\n      <th>1</th>\n      <td>41</td>\n      <td>0.661290</td>\n      <td>0.66</td>\n    </tr>\n    <tr>\n      <th>2</th>\n      <td>4</td>\n      <td>0.064516</td>\n      <td>0.11</td>\n    </tr>\n    <tr>\n      <th>3</th>\n      <td>7</td>\n      <td>0.112903</td>\n      <td>0.10</td>\n    </tr>\n    <tr>\n      <th>4</th>\n      <td>1</td>\n      <td>0.016129</td>\n      <td>0.01</td>\n    </tr>\n    <tr>\n      <th>5</th>\n      <td>9</td>\n      <td>0.145161</td>\n      <td>0.12</td>\n    </tr>\n    <tr>\n      <th rowspan=\"5\" valign=\"top\">2</th>\n      <th>1</th>\n      <td>4</td>\n      <td>0.333333</td>\n      <td>0.22</td>\n    </tr>\n    <tr>\n      <th>2</th>\n      <td>1</td>\n      <td>0.083333</td>\n      <td>0.35</td>\n    </tr>\n    <tr>\n      <th>3</th>\n      <td>4</td>\n      <td>0.333333</td>\n      <td>0.26</td>\n    </tr>\n    <tr>\n      <th>4</th>\n      <td>2</td>\n      <td>0.166667</td>\n      <td>0.08</td>\n    </tr>\n    <tr>\n      <th>5</th>\n      <td>1</td>\n      <td>0.083333</td>\n      <td>0.09</td>\n    </tr>\n    <tr>\n      <th rowspan=\"5\" valign=\"top\">3</th>\n      <th>1</th>\n      <td>9</td>\n      <td>0.818182</td>\n      <td>0.58</td>\n    </tr>\n    <tr>\n      <th>2</th>\n      <td>0</td>\n      <td>0.000000</td>\n      <td>0.06</td>\n    </tr>\n    <tr>\n      <th>3</th>\n      <td>1</td>\n      <td>0.090909</td>\n      <td>0.24</td>\n    </tr>\n    <tr>\n      <th>4</th>\n      <td>0</td>\n      <td>0.000000</td>\n      <td>0.02</td>\n    </tr>\n    <tr>\n      <th>5</th>\n      <td>1</td>\n      <td>0.090909</td>\n      <td>0.10</td>\n    </tr>\n    <tr>\n      <th rowspan=\"5\" valign=\"top\">4</th>\n      <th>1</th>\n      <td>7</td>\n      <td>0.466667</td>\n      <td>0.42</td>\n    </tr>\n    <tr>\n      <th>2</th>\n      <td>3</td>\n      <td>0.200000</td>\n      <td>0.29</td>\n    </tr>\n    <tr>\n      <th>3</th>\n      <td>3</td>\n      <td>0.200000</td>\n      <td>0.16</td>\n    </tr>\n    <tr>\n      <th>4</th>\n      <td>2</td>\n      <td>0.133333</td>\n      <td>0.10</td>\n    </tr>\n    <tr>\n      <th>5</th>\n      <td>0</td>\n      <td>0.000000</td>\n      <td>0.03</td>\n    </tr>\n  </tbody>\n</table>\n</div>"
     },
     "execution_count": 381,
     "metadata": {},
     "output_type": "execute_result"
    }
   ],
   "source": [
    "# Таблица 5. Данные о вероятности и числе заявок в потоке.\n",
    "analyzer.destination_and_type_stat_table()\n"
   ],
   "metadata": {
    "collapsed": false,
    "ExecuteTime": {
     "end_time": "2024-01-08T14:29:52.081684766Z",
     "start_time": "2024-01-08T14:29:52.077506279Z"
    }
   },
   "id": "3e5d33022c0b99f6",
   "execution_count": 381
  },
  {
   "cell_type": "code",
   "outputs": [
    {
     "data": {
      "text/plain": "               Мат. ожидание   Дисперсия  Стандартное отклонение  \\\nТип сообщения                                                      \n1                   9.026331  231.897552               15.228183   \n2                   4.544093   73.197092                8.555530   \n3                   1.520288    7.157584                2.675366   \n4                   4.901152   51.189434                7.154679   \n\n               Интенсивность  \nТип сообщения                 \n1                   0.890218  \n2                   0.393279  \n3                   1.372215  \n4                   0.702427  ",
      "text/html": "<div>\n<style scoped>\n    .dataframe tbody tr th:only-of-type {\n        vertical-align: middle;\n    }\n\n    .dataframe tbody tr th {\n        vertical-align: top;\n    }\n\n    .dataframe thead th {\n        text-align: right;\n    }\n</style>\n<table border=\"1\" class=\"dataframe\">\n  <thead>\n    <tr style=\"text-align: right;\">\n      <th></th>\n      <th>Мат. ожидание</th>\n      <th>Дисперсия</th>\n      <th>Стандартное отклонение</th>\n      <th>Интенсивность</th>\n    </tr>\n    <tr>\n      <th>Тип сообщения</th>\n      <th></th>\n      <th></th>\n      <th></th>\n      <th></th>\n    </tr>\n  </thead>\n  <tbody>\n    <tr>\n      <th>1</th>\n      <td>9.026331</td>\n      <td>231.897552</td>\n      <td>15.228183</td>\n      <td>0.890218</td>\n    </tr>\n    <tr>\n      <th>2</th>\n      <td>4.544093</td>\n      <td>73.197092</td>\n      <td>8.555530</td>\n      <td>0.393279</td>\n    </tr>\n    <tr>\n      <th>3</th>\n      <td>1.520288</td>\n      <td>7.157584</td>\n      <td>2.675366</td>\n      <td>1.372215</td>\n    </tr>\n    <tr>\n      <th>4</th>\n      <td>4.901152</td>\n      <td>51.189434</td>\n      <td>7.154679</td>\n      <td>0.702427</td>\n    </tr>\n  </tbody>\n</table>\n</div>"
     },
     "execution_count": 382,
     "metadata": {},
     "output_type": "execute_result"
    }
   ],
   "source": [
    "# Таблица 6. Числовые характеристики типов сообщений\n",
    "analyzer.request_time_stat_table()\n"
   ],
   "metadata": {
    "collapsed": false,
    "ExecuteTime": {
     "end_time": "2024-01-08T14:29:53.797030049Z",
     "start_time": "2024-01-08T14:29:53.787095599Z"
    }
   },
   "id": "e589edb5327ba9c7",
   "execution_count": 382
  },
  {
   "cell_type": "code",
   "outputs": [],
   "source": [],
   "metadata": {
    "collapsed": false,
    "ExecuteTime": {
     "end_time": "2024-01-08T14:08:21.610890272Z",
     "start_time": "2024-01-08T14:08:21.582136653Z"
    }
   },
   "id": "6c5db167d8fbcf3b",
   "execution_count": 335
  },
  {
   "cell_type": "code",
   "outputs": [],
   "source": [],
   "metadata": {
    "collapsed": false,
    "ExecuteTime": {
     "end_time": "2024-01-08T14:08:25.348061860Z",
     "start_time": "2024-01-08T14:08:25.331775786Z"
    }
   },
   "id": "e5f4961686716dd0",
   "execution_count": 335
  },
  {
   "cell_type": "code",
   "outputs": [],
   "source": [],
   "metadata": {
    "collapsed": false,
    "ExecuteTime": {
     "end_time": "2024-01-08T14:08:27.130677406Z",
     "start_time": "2024-01-08T14:08:27.107183578Z"
    }
   },
   "id": "6e2e7f3c3b9c5755",
   "execution_count": 335
  },
  {
   "cell_type": "code",
   "outputs": [],
   "source": [
    "\n"
   ],
   "metadata": {
    "collapsed": false
   },
   "id": "59725d2f81f676e7"
  }
 ],
 "metadata": {
  "kernelspec": {
   "display_name": "Python 3",
   "language": "python",
   "name": "python3"
  },
  "language_info": {
   "codemirror_mode": {
    "name": "ipython",
    "version": 2
   },
   "file_extension": ".py",
   "mimetype": "text/x-python",
   "name": "python",
   "nbconvert_exporter": "python",
   "pygments_lexer": "ipython2",
   "version": "2.7.6"
  }
 },
 "nbformat": 4,
 "nbformat_minor": 5
}
