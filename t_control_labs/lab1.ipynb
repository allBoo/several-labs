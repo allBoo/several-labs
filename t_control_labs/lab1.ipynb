{
 "cells": [
  {
   "cell_type": "code",
   "outputs": [],
   "source": [
    "import sys\n",
    "sys.path.extend(['/apps/ulstu/os/lab3/.venv/lib/python3.10/site-packages'])"
   ],
   "metadata": {
    "collapsed": false,
    "ExecuteTime": {
     "end_time": "2024-03-13T17:52:29.851842Z",
     "start_time": "2024-03-13T17:52:29.849309Z"
    }
   },
   "id": "2a5659bc1332a9ec",
   "execution_count": 12
  },
  {
   "cell_type": "code",
   "outputs": [],
   "source": [
    "\n",
    "import numpy as np\n",
    "from tabulate import tabulate\n"
   ],
   "metadata": {
    "collapsed": false,
    "ExecuteTime": {
     "end_time": "2024-03-13T17:52:28.570820Z",
     "start_time": "2024-03-13T17:52:28.568638Z"
    }
   },
   "id": "5b636a9ffce54843",
   "execution_count": 11
  },
  {
   "cell_type": "code",
   "outputs": [],
   "source": [
    "A = np.array([[2, 1, 0],\n",
    "              [2, 3, 1],\n",
    "              [0, 0, 2]])\n",
    "\n",
    "B = np.array([[1],\n",
    "              [2],\n",
    "              [3]])\n",
    "\n",
    "C = np.array([[2, -1, 3]])\n",
    "\n",
    "P = np.array([[3, 5, 7],\n",
    "              [3, -4, 1],\n",
    "              [-2, 5, 5]])"
   ],
   "metadata": {
    "collapsed": false,
    "ExecuteTime": {
     "end_time": "2024-03-06T09:27:55.507143580Z",
     "start_time": "2024-03-06T09:27:55.492483825Z"
    }
   },
   "id": "b73d3312cfe3c488",
   "execution_count": 203
  },
  {
   "cell_type": "code",
   "outputs": [],
   "source": [],
   "metadata": {
    "collapsed": false,
    "ExecuteTime": {
     "end_time": "2024-03-06T09:33:00.555740633Z",
     "start_time": "2024-03-06T09:33:00.537674753Z"
    }
   },
   "id": "47efc1ebe4e762ca",
   "execution_count": 221
  },
  {
   "cell_type": "code",
   "outputs": [],
   "source": [
    "def matrix_minor(arr, i, j):\n",
    "    return np.delete(np.delete(arr,i,axis=0), j, axis=1)\n"
   ],
   "metadata": {
    "collapsed": false,
    "ExecuteTime": {
     "end_time": "2024-03-06T09:27:57.639611868Z",
     "start_time": "2024-03-06T09:27:57.627001757Z"
    }
   },
   "id": "b5fc8e0a3198c00f",
   "execution_count": 204
  },
  {
   "cell_type": "code",
   "outputs": [
    {
     "name": "stdout",
     "output_type": "stream",
     "text": [
      "A` = P * A * P^-1\n",
      "Найдем обратную матрицу P^-1\n",
      "Шаг 1. Найдем определитель матрицы\n",
      "det P =  3  *  [[-4  1]   -  5  *  [[ 3  1]   +  7  *  [[ 3 -4]   = 3×(−4×5−5×1)−5×(3×5−−2×1)+7×(3×5−−2×−4) =  -111\n",
      "                [ 5  5]]            [-2  5]]            [-2  5]]\n",
      "Определитель не равен 0, найдем обратную матрицу\n"
     ]
    }
   ],
   "source": [
    "print('A` = P * A * P^-1')\n",
    "print('Найдем обратную матрицу P^-1')\n",
    "print('Шаг 1. Найдем определитель матрицы')\n",
    "\n",
    "np.set_printoptions(precision=3, suppress=True, linewidth=255)\n",
    "\n",
    "detP = int(np.linalg.det(P))\n",
    "\n",
    "print(tabulate([[\n",
    "    'det P = ',\n",
    "    P[0][0], '*',\n",
    "    str(matrix_minor(P, 0, 0)), '-',\n",
    "    P[0][1], '*',\n",
    "    str(matrix_minor(P, 0, 1)), '+',\n",
    "    P[0][2], '*',\n",
    "    str(matrix_minor(P, 0, 2)),\n",
    "    '= 3×(−4×5−5×1)−5×(3×5−−2×1)+7×(3×5−−2×−4) =', detP\n",
    "]], tablefmt=\"plain\"))\n",
    "\n",
    "\n",
    "if detP != 0:\n",
    "    print('Определитель не равен 0, найдем обратную матрицу')\n",
    "else:\n",
    "    print('Определитель равен 0, обратная матрица P не существует')"
   ],
   "metadata": {
    "collapsed": false,
    "ExecuteTime": {
     "end_time": "2024-03-06T09:27:58.767134058Z",
     "start_time": "2024-03-06T09:27:58.756461279Z"
    }
   },
   "id": "445844cdf256a19f",
   "execution_count": 205
  },
  {
   "cell_type": "code",
   "outputs": [
    {
     "name": "stdout",
     "output_type": "stream",
     "text": [
      "Шаг 2. Построим матрицу алгебраических дополнений\n",
      "A[1][1] =  1  *  [[-4  1]   =  -25\n",
      "                  [ 5  5]]\n",
      "A[1][2] =  -1  *  [[ 3  1]   =  -17\n",
      "                   [-2  5]]\n",
      "A[1][3] =  1  *  [[ 3 -4]   =  7\n",
      "                  [-2  5]]\n",
      "A[2][1] =  -1  *  [[5 7]   =  10\n",
      "                   [5 5]]\n",
      "A[2][2] =  1  *  [[ 3  7]   =  29\n",
      "                  [-2  5]]\n",
      "A[2][3] =  -1  *  [[ 3  5]   =  -25\n",
      "                   [-2  5]]\n",
      "A[3][1] =  1  *  [[ 5  7]   =  33\n",
      "                  [-4  1]]\n",
      "A[3][2] =  -1  *  [[3 7]   =  18\n",
      "                   [3 1]]\n",
      "A[3][3] =  1  *  [[ 3  5]   =  -27\n",
      "                  [ 3 -4]]\n"
     ]
    }
   ],
   "source": [
    "print('Шаг 2. Построим матрицу алгебраических дополнений')\n",
    "\n",
    "Padd = np.zeros(P.shape)\n",
    "\n",
    "for i in range(P.shape[0]):\n",
    "    for j in range(P.shape[1]):\n",
    "        M = matrix_minor(P, i, j)\n",
    "        detM = np.linalg.det(M)\n",
    "        idx = (-1) ** (i + j)\n",
    "        Aij = idx * detM \n",
    "        \n",
    "        Padd[i,j] = Aij\n",
    "        \n",
    "        print(tabulate([[\n",
    "            f'A[{i+1}][{j+1}] = ',\n",
    "            idx, '*',\n",
    "            str(M), '=',\n",
    "            Aij\n",
    "        ]], tablefmt=\"plain\"))\n",
    "\n"
   ],
   "metadata": {
    "collapsed": false,
    "ExecuteTime": {
     "end_time": "2024-03-06T09:28:01.904332067Z",
     "start_time": "2024-03-06T09:28:01.892813668Z"
    }
   },
   "id": "f4e9ab8dd8a69ebf",
   "execution_count": 206
  },
  {
   "cell_type": "code",
   "outputs": [
    {
     "name": "stdout",
     "output_type": "stream",
     "text": [
      "Матрица дополнений P\n",
      "[[-25. -17.   7.]\n",
      " [ 10.  29. -25.]\n",
      " [ 33.  18. -27.]]\n"
     ]
    }
   ],
   "source": [
    "print('Матрица дополнений P')\n",
    "print(Padd)\n"
   ],
   "metadata": {
    "collapsed": false,
    "ExecuteTime": {
     "end_time": "2024-03-06T09:28:05.175640455Z",
     "start_time": "2024-03-06T09:28:05.167809150Z"
    }
   },
   "id": "bd69debc611d00e5",
   "execution_count": 207
  },
  {
   "cell_type": "code",
   "outputs": [
    {
     "name": "stdout",
     "output_type": "stream",
     "text": [
      "Шаг 3. Транспонируем матрицу алгебраических дополнений\n",
      "[[-25.  10.  33.]\n",
      " [-17.  29.  18.]\n",
      " [  7. -25. -27.]]\n"
     ]
    }
   ],
   "source": [
    "print('Шаг 3. Транспонируем матрицу алгебраических дополнений')\n",
    "Ptr = np.transpose(Padd)\n",
    "print(Ptr)\n"
   ],
   "metadata": {
    "collapsed": false,
    "ExecuteTime": {
     "end_time": "2024-03-06T09:28:07.552887134Z",
     "start_time": "2024-03-06T09:28:07.541025110Z"
    }
   },
   "id": "150698040aa0ec77",
   "execution_count": 208
  },
  {
   "cell_type": "code",
   "outputs": [
    {
     "name": "stdout",
     "output_type": "stream",
     "text": [
      "Шаг 4. Находим обратную матрицу\n",
      "P^-1 = 1 / -111 *  [[-25.  10.  33.]   =  [[ 0.225 -0.09  -0.297]\n",
      "                    [-17.  29.  18.]       [ 0.153 -0.261 -0.162]\n",
      "                    [  7. -25. -27.]]      [-0.063  0.225  0.243]]\n"
     ]
    }
   ],
   "source": [
    "print('Шаг 4. Находим обратную матрицу')\n",
    "\n",
    "P1 = (1 / detP) * Ptr\n",
    "print(tabulate([[\n",
    "            f'P^-1 = 1 / {detP} * ',\n",
    "            str(Ptr), '=',\n",
    "            str(P1)\n",
    "        ]], tablefmt=\"plain\"))\n"
   ],
   "metadata": {
    "collapsed": false,
    "ExecuteTime": {
     "end_time": "2024-03-06T09:28:10.269272321Z",
     "start_time": "2024-03-06T09:28:10.256110273Z"
    }
   },
   "id": "a34b34868a872191",
   "execution_count": 209
  },
  {
   "cell_type": "code",
   "outputs": [
    {
     "name": "stdout",
     "output_type": "stream",
     "text": [
      "Найдена обратная матрица P^-1\n",
      "[[ 0.225 -0.09  -0.297]\n",
      " [ 0.153 -0.261 -0.162]\n",
      " [-0.063  0.225  0.243]]\n"
     ]
    }
   ],
   "source": [
    "print('Найдена обратная матрица P^-1')\n",
    "print(P1)\n"
   ],
   "metadata": {
    "collapsed": false,
    "ExecuteTime": {
     "end_time": "2024-03-06T09:28:12.625715223Z",
     "start_time": "2024-03-06T09:28:12.611874267Z"
    }
   },
   "id": "d28fcfbf033e2271",
   "execution_count": 210
  },
  {
   "cell_type": "code",
   "outputs": [
    {
     "name": "stdout",
     "output_type": "stream",
     "text": [
      "Шаг 5. Проверим обратную матрицу через numpy.linalg.inv\n"
     ]
    },
    {
     "data": {
      "text/plain": "array([[ 0.225, -0.09 , -0.297],\n       [ 0.153, -0.261, -0.162],\n       [-0.063,  0.225,  0.243]])"
     },
     "execution_count": 211,
     "metadata": {},
     "output_type": "execute_result"
    }
   ],
   "source": [
    "print('Шаг 5. Проверим обратную матрицу через numpy.linalg.inv')\n",
    "np.linalg.inv(P)"
   ],
   "metadata": {
    "collapsed": false,
    "ExecuteTime": {
     "end_time": "2024-03-06T09:28:16.735263018Z",
     "start_time": "2024-03-06T09:28:16.729869326Z"
    }
   },
   "id": "8773c99565a37124",
   "execution_count": 211
  },
  {
   "cell_type": "code",
   "outputs": [
    {
     "name": "stdout",
     "output_type": "stream",
     "text": [
      "Шаг 5. Проверим обратную матрицу через умножение\n",
      "[[ 1.  0.  0.]\n",
      " [ 0.  1. -0.]\n",
      " [-0.  0.  1.]]\n"
     ]
    }
   ],
   "source": [
    "print('Шаг 5. Проверим обратную матрицу через умножение')\n",
    "print(np.dot(P, P1))"
   ],
   "metadata": {
    "collapsed": false,
    "ExecuteTime": {
     "end_time": "2024-03-06T09:28:19.108856598Z",
     "start_time": "2024-03-06T09:28:19.067795209Z"
    }
   },
   "id": "7f6544b6f03a1ca",
   "execution_count": 212
  },
  {
   "cell_type": "code",
   "outputs": [
    {
     "name": "stdout",
     "output_type": "stream",
     "text": [
      "Вычисляем преобразование P * A * P^-1\n",
      "Шаг 1. Вычисляем P * A\n",
      "P * A =  [[ 3  5  7]   *  [[2 1 0]   =  [['3 * 2 + 5 * 2 + 7 * 0,' '3 * 1 + 5 * 3 + 7 * 0,' '3 * 0 + 5 * 1 + 7 * 2']      =  [[16 18 19]\n",
      "          [ 3 -4  1]       [2 3 1]       ['3 * 2 + -4 * 2 + 1 * 0,' '3 * 1 + -4 * 3 + 1 * 0,' '3 * 0 + -4 * 1 + 1 * 2']       [-2 -9 -2]\n",
      "          [-2  5  5]]      [0 0 2]]      ['-2 * 2 + 5 * 2 + 5 * 0,' '-2 * 1 + 5 * 3 + 5 * 0,' '-2 * 0 + 5 * 1 + 5 * 2']]      [ 6 13 15]]\n"
     ]
    }
   ],
   "source": [
    "print('Вычисляем преобразование P * A * P^-1')\n",
    "\n",
    "print('Шаг 1. Вычисляем P * A')\n",
    "\n",
    "Mul = np.array([[f'{P[0,0]} * {A[0,0]} + {P[0,1]} * {A[1,0]} + {P[0,2]} * {A[2,0]},',\n",
    "                 f'{P[0,0]} * {A[0,1]} + {P[0,1]} * {A[1,1]} + {P[0,2]} * {A[2,1]},',\n",
    "                 f'{P[0,0]} * {A[0,2]} + {P[0,1]} * {A[1,2]} + {P[0,2]} * {A[2,2]}'],\n",
    "                [f'{P[1,0]} * {A[0,0]} + {P[1,1]} * {A[1,0]} + {P[1,2]} * {A[2,0]},',\n",
    "                 f'{P[1,0]} * {A[0,1]} + {P[1,1]} * {A[1,1]} + {P[1,2]} * {A[2,1]},',\n",
    "                 f'{P[1,0]} * {A[0,2]} + {P[1,1]} * {A[1,2]} + {P[1,2]} * {A[2,2]}'],\n",
    "                [f'{P[2,0]} * {A[0,0]} + {P[2,1]} * {A[1,0]} + {P[2,2]} * {A[2,0]},',\n",
    "                 f'{P[2,0]} * {A[0,1]} + {P[2,1]} * {A[1,1]} + {P[2,2]} * {A[2,1]},',\n",
    "                 f'{P[2,0]} * {A[0,2]} + {P[2,1]} * {A[1,2]} + {P[2,2]} * {A[2,2]}']])\n",
    "\n",
    "PA = np.dot(P, A)\n",
    "print(tabulate([[\n",
    "            'P * A = ',\n",
    "            str(P), '*',\n",
    "            str(A), '=',\n",
    "            str(Mul), '=',\n",
    "            str(PA)\n",
    "        ]], tablefmt=\"plain\"))\n",
    "\n"
   ],
   "metadata": {
    "collapsed": false,
    "ExecuteTime": {
     "end_time": "2024-03-06T09:28:23.490898588Z",
     "start_time": "2024-03-06T09:28:23.471945521Z"
    }
   },
   "id": "43fa1ac7a2982995",
   "execution_count": 213
  },
  {
   "cell_type": "code",
   "outputs": [
    {
     "name": "stdout",
     "output_type": "stream",
     "text": [
      "Шаг 2. Вычисляем P * A * P^-1\n",
      "P * A * P^-1 =  [[16 18 19]   *  [[ 0.225 -0.09  -0.297]   =  [['16 * 0.2252 + 18 * 0.1532 + 19 * -0.0631,' '16 * -0.0901 + 18 * -0.2613 + 19 * 0.2252,' '16 * -0.2973 + 18 * -0.1622 + 19 * 0.2432']  =  [[ 5.162 -1.865 -3.054]\n",
      "                 [-2 -9 -2]       [ 0.153 -0.261 -0.162]       ['-2 * 0.2252 + -9 * 0.1532 + -2 * -0.0631,' '-2 * -0.0901 + -9 * -0.2613 + -2 * 0.2252,' '-2 * -0.2973 + -9 * -0.1622 + -2 * 0.2432']      [-1.703  2.081  1.568]\n",
      "                 [ 6 13 15]]      [-0.063  0.225  0.243]]      ['6 * 0.2252 + 13 * 0.1532 + 15 * -0.0631,' '6 * -0.0901 + 13 * -0.2613 + 15 * 0.2252,' '6 * -0.2973 + 13 * -0.1622 + 15 * 0.2432']]        [ 2.396 -0.559 -0.243]]\n"
     ]
    }
   ],
   "source": [
    "print('Шаг 2. Вычисляем P * A * P^-1')\n",
    "\n",
    "Mul = np.array([[f'{PA[0,0]} * {P1[0,0]:.4f} + {PA[0,1]} * {P1[1,0]:.4f} + {PA[0,2]} * {P1[2,0]:.4f},',\n",
    "                 f'{PA[0,0]} * {P1[0,1]:.4f} + {PA[0,1]} * {P1[1,1]:.4f} + {PA[0,2]} * {P1[2,1]:.4f},',\n",
    "                 f'{PA[0,0]} * {P1[0,2]:.4f} + {PA[0,1]} * {P1[1,2]:.4f} + {PA[0,2]} * {P1[2,2]:.4f}'],\n",
    "                [f'{PA[1,0]} * {P1[0,0]:.4f} + {PA[1,1]} * {P1[1,0]:.4f} + {PA[1,2]} * {P1[2,0]:.4f},',\n",
    "                 f'{PA[1,0]} * {P1[0,1]:.4f} + {PA[1,1]} * {P1[1,1]:.4f} + {PA[1,2]} * {P1[2,1]:.4f},',\n",
    "                 f'{PA[1,0]} * {P1[0,2]:.4f} + {PA[1,1]} * {P1[1,2]:.4f} + {PA[1,2]} * {P1[2,2]:.4f}'],\n",
    "                [f'{PA[2,0]} * {P1[0,0]:.4f} + {PA[2,1]} * {P1[1,0]:.4f} + {PA[2,2]} * {P1[2,0]:.4f},',\n",
    "                 f'{PA[2,0]} * {P1[0,1]:.4f} + {PA[2,1]} * {P1[1,1]:.4f} + {PA[2,2]} * {P1[2,1]:.4f},',\n",
    "                 f'{PA[2,0]} * {P1[0,2]:.4f} + {PA[2,1]} * {P1[1,2]:.4f} + {PA[2,2]} * {P1[2,2]:.4f}']])\n",
    "\n",
    "PAP = np.dot(PA, P1)\n",
    "print(tabulate([[\n",
    "            'P * A * P^-1 = ',\n",
    "            str(PA), '*',\n",
    "            str(P1), '=',\n",
    "            str(Mul), '=',\n",
    "            str(PAP)\n",
    "        ]], tablefmt=\"plain\"))\n"
   ],
   "metadata": {
    "collapsed": false,
    "ExecuteTime": {
     "end_time": "2024-03-06T09:28:25.410481214Z",
     "start_time": "2024-03-06T09:28:25.358098347Z"
    }
   },
   "id": "304478b5220e1bda",
   "execution_count": 214
  },
  {
   "cell_type": "code",
   "outputs": [
    {
     "name": "stdout",
     "output_type": "stream",
     "text": [
      "Проверяем np.linalg.multi_dot([P, A, P1])\n"
     ]
    },
    {
     "data": {
      "text/plain": "array([[ 5.162, -1.865, -3.054],\n       [-1.703,  2.081,  1.568],\n       [ 2.396, -0.559, -0.243]])"
     },
     "execution_count": 215,
     "metadata": {},
     "output_type": "execute_result"
    }
   ],
   "source": [
    "print('Проверяем np.linalg.multi_dot([P, A, P1])')\n",
    "np.linalg.multi_dot([P, A, P1])"
   ],
   "metadata": {
    "collapsed": false,
    "ExecuteTime": {
     "end_time": "2024-03-06T09:28:27.776765129Z",
     "start_time": "2024-03-06T09:28:27.755784819Z"
    }
   },
   "id": "206b5a6d140791cb",
   "execution_count": 215
  },
  {
   "cell_type": "code",
   "outputs": [
    {
     "name": "stdout",
     "output_type": "stream",
     "text": [
      "Вычисляем преобразование B` = P * B\n",
      "P * B =  [[ 3  5  7]   *  [[1]   =  [['3 * 1 + 5 * 2 + 7 * 3,']    =  [[34]\n",
      "          [ 3 -4  1]       [2]       ['3 * 1 + -4 * 2 + 1 * 3,']       [-2]\n",
      "          [-2  5  5]]      [3]]      ['-2 * 1 + 5 * 2 + 5 * 3,']]      [23]]\n"
     ]
    }
   ],
   "source": [
    "print('Вычисляем преобразование B` = P * B')\n",
    "\n",
    "Mul = np.array([[f'{P[0,0]} * {B[0,0]} + {P[0,1]} * {B[1,0]} + {P[0,2]} * {B[2,0]},'],\n",
    "                [f'{P[1,0]} * {B[0,0]} + {P[1,1]} * {B[1,0]} + {P[1,2]} * {B[2,0]},'],\n",
    "                [f'{P[2,0]} * {B[0,0]} + {P[2,1]} * {B[1,0]} + {P[2,2]} * {B[2,0]},']])\n",
    "\n",
    "PB = np.dot(P, B)\n",
    "print(tabulate([[\n",
    "            'P * B = ',\n",
    "            str(P), '*',\n",
    "            str(B), '=',\n",
    "            str(Mul), '=',\n",
    "            str(PB)\n",
    "        ]], tablefmt=\"plain\"))\n"
   ],
   "metadata": {
    "collapsed": false,
    "ExecuteTime": {
     "end_time": "2024-03-06T09:28:29.114717795Z",
     "start_time": "2024-03-06T09:28:29.104750573Z"
    }
   },
   "id": "a3b8ae11e82c77e7",
   "execution_count": 216
  },
  {
   "cell_type": "code",
   "outputs": [
    {
     "name": "stdout",
     "output_type": "stream",
     "text": [
      "Вычисляем преобразование C` = C * P1\n",
      "C * P1 =  [[ 2 -1  3]]  *  [[ 0.225 -0.09  -0.297]   =  [['2 * 0.2252 + -1 * 0.1532 + 3 * -0.0631,' '2 * -0.0901 + -1 * -0.2613 + 3 * 0.2252,' '2 * -0.2973 + -1 * -0.1622 + 3 * 0.2432']]  =  [[0.108 0.757 0.297]]\n",
      "                            [ 0.153 -0.261 -0.162]\n",
      "                            [-0.063  0.225  0.243]]\n"
     ]
    }
   ],
   "source": [
    "print('Вычисляем преобразование C` = C * P1')\n",
    "\n",
    "Mul = np.array([[f'{C[0,0]} * {P1[0,0]:.4f} + {C[0,1]} * {P1[1,0]:.4f} + {C[0,2]} * {P1[2,0]:.4f},',\n",
    "                 f'{C[0,0]} * {P1[0,1]:.4f} + {C[0,1]} * {P1[1,1]:.4f} + {C[0,2]} * {P1[2,1]:.4f},',\n",
    "                 f'{C[0,0]} * {P1[0,2]:.4f} + {C[0,1]} * {P1[1,2]:.4f} + {C[0,2]} * {P1[2,2]:.4f}']])\n",
    "\n",
    "CP = np.dot(C, P1)\n",
    "print(tabulate([[\n",
    "            'C * P1 = ',\n",
    "            str(C), '*',\n",
    "            str(P1), '=',\n",
    "            str(Mul), '=',\n",
    "            str(CP)\n",
    "        ]], tablefmt=\"plain\"))\n",
    "\n"
   ],
   "metadata": {
    "collapsed": false,
    "ExecuteTime": {
     "end_time": "2024-03-06T09:28:31.317125250Z",
     "start_time": "2024-03-06T09:28:31.307674901Z"
    }
   },
   "id": "d9071e2b256df722",
   "execution_count": 217
  },
  {
   "cell_type": "code",
   "outputs": [
    {
     "name": "stdout",
     "output_type": "stream",
     "text": [
      "Ответ:\n",
      "P` = P * A * P^-1\n",
      "[[ 5.162 -1.865 -3.054]\n",
      " [-1.703  2.081  1.568]\n",
      " [ 2.396 -0.559 -0.243]]\n"
     ]
    }
   ],
   "source": [
    "print('Ответ:')\n",
    "\n",
    "print('P` = P * A * P^-1')\n",
    "print(PAP)\n"
   ],
   "metadata": {
    "collapsed": false,
    "ExecuteTime": {
     "end_time": "2024-03-06T09:28:32.395613030Z",
     "start_time": "2024-03-06T09:28:32.387963246Z"
    }
   },
   "id": "83f8f17fcd9f8aa6",
   "execution_count": 218
  },
  {
   "cell_type": "code",
   "outputs": [
    {
     "name": "stdout",
     "output_type": "stream",
     "text": [
      "B` = P * B\n",
      "[[34]\n",
      " [-2]\n",
      " [23]]\n"
     ]
    }
   ],
   "source": [
    "print('B` = P * B')\n",
    "print(PB)\n"
   ],
   "metadata": {
    "collapsed": false,
    "ExecuteTime": {
     "end_time": "2024-03-06T09:28:32.810911052Z",
     "start_time": "2024-03-06T09:28:32.804566262Z"
    }
   },
   "id": "2390fc35cdedd040",
   "execution_count": 219
  },
  {
   "cell_type": "code",
   "outputs": [
    {
     "name": "stdout",
     "output_type": "stream",
     "text": [
      "C` = C * P-1\n",
      "[[0.108 0.757 0.297]]\n"
     ]
    }
   ],
   "source": [
    "print('C` = C * P-1')\n",
    "print(CP)\n"
   ],
   "metadata": {
    "collapsed": false,
    "ExecuteTime": {
     "end_time": "2024-03-06T09:28:33.544839842Z",
     "start_time": "2024-03-06T09:28:33.520697917Z"
    }
   },
   "id": "f8e2c951c3fad5e6",
   "execution_count": 220
  },
  {
   "cell_type": "code",
   "outputs": [],
   "source": [],
   "metadata": {
    "collapsed": false
   },
   "id": "a177c2b5d254fc6b"
  }
 ],
 "metadata": {
  "kernelspec": {
   "display_name": "Python 3",
   "language": "python",
   "name": "python3"
  },
  "language_info": {
   "codemirror_mode": {
    "name": "ipython",
    "version": 2
   },
   "file_extension": ".py",
   "mimetype": "text/x-python",
   "name": "python",
   "nbconvert_exporter": "python",
   "pygments_lexer": "ipython2",
   "version": "2.7.6"
  }
 },
 "nbformat": 4,
 "nbformat_minor": 5
}
