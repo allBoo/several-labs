{
 "cells": [
  {
   "cell_type": "code",
   "execution_count": 1,
   "id": "initial_id",
   "metadata": {
    "collapsed": true,
    "ExecuteTime": {
     "end_time": "2024-01-15T12:23:10.253689033Z",
     "start_time": "2024-01-15T12:23:09.504198904Z"
    }
   },
   "outputs": [],
   "source": [
    "import math\n",
    "import random\n",
    "import matplotlib.pyplot as plt\n",
    "import numpy as np\n",
    "import pandas as pd\n",
    "from scipy.stats import lognorm"
   ]
  },
  {
   "cell_type": "code",
   "outputs": [],
   "source": [
    "TYPE_1 = 1\n",
    "TYPE_2 = 2\n",
    "TYPE_3 = 3\n",
    "TYPE_4 = 4\n",
    "\n",
    "ALL_TYPES = [TYPE_1, TYPE_2, TYPE_3, TYPE_4]\n",
    "\n",
    "ROUTE_1 = 1\n",
    "ROUTE_2 = 2\n",
    "ROUTE_3 = 3\n",
    "ROUTE_4 = 4\n",
    "ROUTE_5 = 5\n",
    "\n",
    "ALL_ROUTES = [ROUTE_1, ROUTE_2, ROUTE_3, ROUTE_4, ROUTE_5]\n",
    "\n",
    "class Request:\n",
    "    TYPE_NAME = 'Тип сообщения'\n",
    "    LENGTH_NAME = 'Длина сообщения'\n",
    "    TIME_NAME = 'Время поступления'\n",
    "    DEST_NAME = 'Адрес абонента'\n",
    "    \n",
    "    def __init__(self, typ, length, time, destination):\n",
    "        self.type = typ\n",
    "        self.length = length\n",
    "        self.time = time\n",
    "        self.destination = destination\n",
    "        \n",
    "    def attrs(self):\n",
    "        return [\n",
    "            self.type, \n",
    "            self.length, \n",
    "            self.time, \n",
    "            self.destination\n",
    "        ]\n",
    "    \n",
    "    @classmethod\n",
    "    def attr_names(cls):\n",
    "        return [\n",
    "            cls.TYPE_NAME, \n",
    "            cls.LENGTH_NAME, \n",
    "            cls.TIME_NAME, \n",
    "            cls.DEST_NAME\n",
    "        ]\n",
    "    \n",
    "    def __repr__(self):\n",
    "        return f\"{self.type} {self.length} {self.time} {self.destination}\"\n",
    "    \n",
    "\n",
    "class Router:\n",
    "    routes = {\n",
    "        TYPE_1: [0.66, 0.11, 0.1, 0.01, 0.12],\n",
    "        TYPE_2: [0.22, 0.35, 0.26, 0.08, 0.09],\n",
    "        TYPE_3: [0.58, 0.06, 0.24, 0.02, 0.1],\n",
    "        TYPE_4: [0.42, 0.29, 0.16, 0.1, 0.03],\n",
    "    }\n",
    "\n",
    "    def route(self, request_type):\n",
    "        if request_type not in self.routes:\n",
    "            raise RuntimeError('Unknown request type')\n",
    "        \n",
    "        return np.random.choice(ALL_ROUTES, p=self.routes[request_type])\n",
    "        \n",
    "\n",
    "class RequestGenerator:\n",
    "    TYPES_PROBABILITY = [0.69, 0.06, 0.1, 0.15]\n",
    "    LENGTH_RANGE = (11, 235)\n",
    "    \n",
    "    INCOME_MEDIAN = 0.4\n",
    "    INCOME_VARIANCE = 4.2\n",
    "    \n",
    "    def __init__(self, sample_size):\n",
    "        self.sample_size = sample_size\n",
    "        \n",
    "        rv = lognorm(math.sqrt(self.INCOME_VARIANCE), scale=math.exp(self.INCOME_MEDIAN))\n",
    "        self.income_distribution = iter(rv.rvs(sample_size))\n",
    "        \n",
    "        self.router = Router()\n",
    "        self.samples = []\n",
    "    \n",
    "    def generate_request(self):\n",
    "        request_type = np.random.choice(ALL_TYPES, p=self.TYPES_PROBABILITY)\n",
    "        request_length = random.randrange(*self.LENGTH_RANGE)\n",
    "        request_time = next(self.income_distribution)\n",
    "        request_destination = self.router.route(request_type)\n",
    "        \n",
    "        return Request(\n",
    "            request_type,\n",
    "            request_length,\n",
    "            request_time,\n",
    "            request_destination\n",
    "        )\n",
    "    \n",
    "    def generate_samples(self):\n",
    "        self.samples = [self.generate_request() for _ in range(self.sample_size)]\n",
    "        self.samples = sorted(self.samples, key=lambda request: request.time)\n",
    "        \n",
    "    def as_df(self):\n",
    "        if not self.samples:\n",
    "            raise ValueError(\"Generate samples first.\")\n",
    "        \n",
    "        return pd.DataFrame(\n",
    "            data=[request.attrs() for request in self.samples], \n",
    "            columns=Request.attr_names()\n",
    "        )\n",
    "\n"
   ],
   "metadata": {
    "collapsed": false,
    "ExecuteTime": {
     "end_time": "2024-01-15T12:23:10.942776042Z",
     "start_time": "2024-01-15T12:23:10.937995344Z"
    }
   },
   "id": "b4918949c8f9f700",
   "execution_count": 2
  },
  {
   "cell_type": "code",
   "outputs": [],
   "source": [
    "\n",
    "class QueueAnalyzer:\n",
    "    def __init__(self, generator: RequestGenerator):\n",
    "        self.generator = generator\n",
    "        self.df = generator.as_df()\n",
    "        \n",
    "    def data_table(self):\n",
    "        return self.df\n",
    "    \n",
    "    def plot_distribution(self):\n",
    "        data = self.df[Request.TIME_NAME]\n",
    "\n",
    "        fig, ax1 = plt.subplots()\n",
    "        ax2 = ax1.twinx()\n",
    "        \n",
    "        plt.title('Значения времени поступления и функция плотности вероятности')\n",
    "        \n",
    "        ax1.set_ylabel('Количество заявок', color='skyblue')\n",
    "        ax1.set_xlabel('Время поступления')\n",
    "        \n",
    "        ax2.set_ylabel('Плотность вероятности', color='orange')\n",
    "        ax2.tick_params(axis='y', labelcolor='orange')\n",
    "        \n",
    "        # Оценка параметров распределения lognorm по данным\n",
    "        shape, loc, scale = lognorm.fit(data)\n",
    "        \n",
    "        # Генерация значений для функции плотности вероятности\n",
    "        x_values = np.linspace(min(data), max(data), 1000)\n",
    "        pdf_values = lognorm.pdf(x_values, shape, loc=loc, scale=scale)\n",
    "        \n",
    "        # Гистограмма\n",
    "        hist = ax1.hist(data, bins='auto', color='skyblue', edgecolor='black', alpha=0.7, label='Заявки')\n",
    "        \n",
    "        # Функция плотности вероятности\n",
    "        plot = ax2.plot(x_values, pdf_values, color='orange', label='Функция плотности вероятности (lognorm)')\n",
    "        \n",
    "        lines, labels = ax1.get_legend_handles_labels()\n",
    "        lines2, labels2 = ax2.get_legend_handles_labels()\n",
    "        \n",
    "        ax1.legend(lines + lines2, labels + labels2, loc=0)\n",
    "        ax1.grid()\n",
    "\n",
    "        \n",
    "    def request_type_stat_table(self):\n",
    "        count_per_type = self.df[Request.TYPE_NAME].value_counts().sort_index()\n",
    "        \n",
    "        # Подсчет вероятности появления каждого типа\n",
    "        probability_per_type = count_per_type / self.generator.sample_size\n",
    "        \n",
    "        # Создание DataFrame для результатов\n",
    "        return pd.DataFrame({\n",
    "            'Кол-во заявок данного типа': count_per_type,\n",
    "            'Вероятность появления заявки (полученная)': probability_per_type,\n",
    "            'Вероятность появления заявки (заданная)': RequestGenerator.TYPES_PROBABILITY,\n",
    "        })\n",
    "    \n",
    "    def request_length_stat_table(self):\n",
    "        grouped_by_type = self.df.groupby(Request.TYPE_NAME)\n",
    "        return pd.DataFrame({\n",
    "            'Средняя длина заявки': grouped_by_type[Request.LENGTH_NAME].mean(),\n",
    "            'Предельная длина заявки': grouped_by_type[Request.LENGTH_NAME].max()\n",
    "        })\n",
    "    \n",
    "    def destination_stat_table(self):\n",
    "        grouped = self.df.groupby([Request.DEST_NAME])\n",
    "        time = self.df[Request.TIME_NAME].max()\n",
    "        \n",
    "        print('Max time is', time)\n",
    "        return pd.DataFrame({\n",
    "            'Количество заявок': grouped.size(),\n",
    "            'Средняя частота поступления заявок': grouped.size() / time\n",
    "        })\n",
    "    \n",
    "    def destination_and_type_stat_table(self):\n",
    "        multiindex = pd.MultiIndex.from_product([ALL_TYPES, ALL_ROUTES], names=[Request.TYPE_NAME, Request.DEST_NAME])\n",
    "\n",
    "        grouped = self.df.groupby([Request.TYPE_NAME, Request.DEST_NAME])\n",
    "        \n",
    "        count_per_type_per_address = grouped.size().unstack(fill_value=0)\n",
    "        \n",
    "        total_count_per_address = grouped.size().reset_index(name='Total').groupby(Request.TYPE_NAME)['Total'].sum()\n",
    "        \n",
    "        probability_per_type_per_address = count_per_type_per_address.divide(total_count_per_address, axis=0)\n",
    "         \n",
    "        result_df = pd.DataFrame({\n",
    "            'Число заявок': count_per_type_per_address.values.flatten(),\n",
    "            'Вероятность заявки': probability_per_type_per_address.values.flatten(),\n",
    "        }, index=multiindex)\n",
    "        \n",
    "        theoretical_probabilities = [Router.routes[tp][addr - 1] for tp, addr in result_df.index]\n",
    "        \n",
    "        result_df['Теоретическая вероятность'] = theoretical_probabilities\n",
    "\n",
    "        \n",
    "        return result_df\n",
    "\n",
    "    def request_time_stat_table(self):\n",
    "        grouped = self.df.groupby(Request.TYPE_NAME)\n",
    "\n",
    "        # Подсчет математического ожидания, дисперсии и стандартного отклонения для каждого типа заявок\n",
    "        statistics = grouped[Request.TIME_NAME].agg(['mean', 'var', 'std'])\n",
    "        \n",
    "        count_per_type = grouped.size()\n",
    "        max_time_per_type = grouped[Request.TIME_NAME].max()\n",
    "        \n",
    "        statistics['Интенсивность'] = count_per_type / max_time_per_type\n",
    "        \n",
    "        # Переименование столбцов для ясности\n",
    "        statistics.columns = ['Мат. ожидание', 'Дисперсия', 'Стандартное отклонение', 'Интенсивность']\n",
    "        \n",
    "        return statistics\n",
    "\n",
    "    "
   ],
   "metadata": {
    "collapsed": false,
    "ExecuteTime": {
     "end_time": "2024-01-15T12:23:11.536928042Z",
     "start_time": "2024-01-15T12:23:11.520052756Z"
    }
   },
   "id": "96adc623ffbcccf",
   "execution_count": 3
  },
  {
   "cell_type": "code",
   "outputs": [
    {
     "data": {
      "text/plain": "    Тип сообщения  Длина сообщения  Время поступления  Адрес абонента\n0               2              167           0.003085               2\n1               1              203           0.023423               1\n2               1              112           0.024412               1\n3               1              183           0.031494               1\n4               1               74           0.041776               1\n..            ...              ...                ...             ...\n95              1               34          17.043536               1\n96              1              144          19.029585               1\n97              1               81          36.606361               1\n98              4               93          42.735975               1\n99              1              218          68.422247               1\n\n[100 rows x 4 columns]",
      "text/html": "<div>\n<style scoped>\n    .dataframe tbody tr th:only-of-type {\n        vertical-align: middle;\n    }\n\n    .dataframe tbody tr th {\n        vertical-align: top;\n    }\n\n    .dataframe thead th {\n        text-align: right;\n    }\n</style>\n<table border=\"1\" class=\"dataframe\">\n  <thead>\n    <tr style=\"text-align: right;\">\n      <th></th>\n      <th>Тип сообщения</th>\n      <th>Длина сообщения</th>\n      <th>Время поступления</th>\n      <th>Адрес абонента</th>\n    </tr>\n  </thead>\n  <tbody>\n    <tr>\n      <th>0</th>\n      <td>2</td>\n      <td>167</td>\n      <td>0.003085</td>\n      <td>2</td>\n    </tr>\n    <tr>\n      <th>1</th>\n      <td>1</td>\n      <td>203</td>\n      <td>0.023423</td>\n      <td>1</td>\n    </tr>\n    <tr>\n      <th>2</th>\n      <td>1</td>\n      <td>112</td>\n      <td>0.024412</td>\n      <td>1</td>\n    </tr>\n    <tr>\n      <th>3</th>\n      <td>1</td>\n      <td>183</td>\n      <td>0.031494</td>\n      <td>1</td>\n    </tr>\n    <tr>\n      <th>4</th>\n      <td>1</td>\n      <td>74</td>\n      <td>0.041776</td>\n      <td>1</td>\n    </tr>\n    <tr>\n      <th>...</th>\n      <td>...</td>\n      <td>...</td>\n      <td>...</td>\n      <td>...</td>\n    </tr>\n    <tr>\n      <th>95</th>\n      <td>1</td>\n      <td>34</td>\n      <td>17.043536</td>\n      <td>1</td>\n    </tr>\n    <tr>\n      <th>96</th>\n      <td>1</td>\n      <td>144</td>\n      <td>19.029585</td>\n      <td>1</td>\n    </tr>\n    <tr>\n      <th>97</th>\n      <td>1</td>\n      <td>81</td>\n      <td>36.606361</td>\n      <td>1</td>\n    </tr>\n    <tr>\n      <th>98</th>\n      <td>4</td>\n      <td>93</td>\n      <td>42.735975</td>\n      <td>1</td>\n    </tr>\n    <tr>\n      <th>99</th>\n      <td>1</td>\n      <td>218</td>\n      <td>68.422247</td>\n      <td>1</td>\n    </tr>\n  </tbody>\n</table>\n<p>100 rows × 4 columns</p>\n</div>"
     },
     "execution_count": 4,
     "metadata": {},
     "output_type": "execute_result"
    }
   ],
   "source": [
    "generator = RequestGenerator(100)\n",
    "generator.generate_samples()\n",
    "\n",
    "analyzer = QueueAnalyzer(generator)\n",
    "\n",
    "# Таблица 1. Полученные заявки.\n",
    "analyzer.data_table()"
   ],
   "metadata": {
    "collapsed": false,
    "ExecuteTime": {
     "end_time": "2024-01-15T12:23:12.192962061Z",
     "start_time": "2024-01-15T12:23:12.174333248Z"
    }
   },
   "id": "1ddd403f86279e9d",
   "execution_count": 4
  },
  {
   "cell_type": "code",
   "outputs": [
    {
     "data": {
      "text/plain": "<Figure size 640x480 with 2 Axes>",
      "image/png": "[encoded data removed]"
     },
     "metadata": {},
     "output_type": "display_data"
    }
   ],
   "source": [
    "# Рисунок 2. Значения времени поступления и функция плотности вероятности\n",
    "analyzer.plot_distribution()"
   ],
   "metadata": {
    "collapsed": false,
    "ExecuteTime": {
     "end_time": "2024-01-15T12:23:13.273759485Z",
     "start_time": "2024-01-15T12:23:13.013195098Z"
    }
   },
   "id": "9050cc5d7602807b",
   "execution_count": 5
  },
  {
   "cell_type": "code",
   "outputs": [
    {
     "data": {
      "text/plain": "               Кол-во заявок данного типа  \\\nТип сообщения                               \n1                                      68   \n2                                       3   \n3                                      10   \n4                                      19   \n\n               Вероятность появления заявки (полученная)  \\\nТип сообщения                                              \n1                                                   0.68   \n2                                                   0.03   \n3                                                   0.10   \n4                                                   0.19   \n\n               Вероятность появления заявки (заданная)  \nТип сообщения                                           \n1                                                 0.69  \n2                                                 0.06  \n3                                                 0.10  \n4                                                 0.15  ",
      "text/html": "<div>\n<style scoped>\n    .dataframe tbody tr th:only-of-type {\n        vertical-align: middle;\n    }\n\n    .dataframe tbody tr th {\n        vertical-align: top;\n    }\n\n    .dataframe thead th {\n        text-align: right;\n    }\n</style>\n<table border=\"1\" class=\"dataframe\">\n  <thead>\n    <tr style=\"text-align: right;\">\n      <th></th>\n      <th>Кол-во заявок данного типа</th>\n      <th>Вероятность появления заявки (полученная)</th>\n      <th>Вероятность появления заявки (заданная)</th>\n    </tr>\n    <tr>\n      <th>Тип сообщения</th>\n      <th></th>\n      <th></th>\n      <th></th>\n    </tr>\n  </thead>\n  <tbody>\n    <tr>\n      <th>1</th>\n      <td>68</td>\n      <td>0.68</td>\n      <td>0.69</td>\n    </tr>\n    <tr>\n      <th>2</th>\n      <td>3</td>\n      <td>0.03</td>\n      <td>0.06</td>\n    </tr>\n    <tr>\n      <th>3</th>\n      <td>10</td>\n      <td>0.10</td>\n      <td>0.10</td>\n    </tr>\n    <tr>\n      <th>4</th>\n      <td>19</td>\n      <td>0.19</td>\n      <td>0.15</td>\n    </tr>\n  </tbody>\n</table>\n</div>"
     },
     "execution_count": 6,
     "metadata": {},
     "output_type": "execute_result"
    }
   ],
   "source": [
    "# Таблица 2. Сравнение вероятностей появления сообщений (заданная и полученная).\n",
    "analyzer.request_type_stat_table()"
   ],
   "metadata": {
    "collapsed": false,
    "ExecuteTime": {
     "end_time": "2024-01-15T12:23:14.031376453Z",
     "start_time": "2024-01-15T12:23:14.021462945Z"
    }
   },
   "id": "d88fa9b349d15e87",
   "execution_count": 6
  },
  {
   "cell_type": "code",
   "outputs": [
    {
     "data": {
      "text/plain": "               Средняя длина заявки  Предельная длина заявки\nТип сообщения                                               \n1                        126.691176                      232\n2                        159.000000                      185\n3                        148.200000                      234\n4                        136.315789                      233",
      "text/html": "<div>\n<style scoped>\n    .dataframe tbody tr th:only-of-type {\n        vertical-align: middle;\n    }\n\n    .dataframe tbody tr th {\n        vertical-align: top;\n    }\n\n    .dataframe thead th {\n        text-align: right;\n    }\n</style>\n<table border=\"1\" class=\"dataframe\">\n  <thead>\n    <tr style=\"text-align: right;\">\n      <th></th>\n      <th>Средняя длина заявки</th>\n      <th>Предельная длина заявки</th>\n    </tr>\n    <tr>\n      <th>Тип сообщения</th>\n      <th></th>\n      <th></th>\n    </tr>\n  </thead>\n  <tbody>\n    <tr>\n      <th>1</th>\n      <td>126.691176</td>\n      <td>232</td>\n    </tr>\n    <tr>\n      <th>2</th>\n      <td>159.000000</td>\n      <td>185</td>\n    </tr>\n    <tr>\n      <th>3</th>\n      <td>148.200000</td>\n      <td>234</td>\n    </tr>\n    <tr>\n      <th>4</th>\n      <td>136.315789</td>\n      <td>233</td>\n    </tr>\n  </tbody>\n</table>\n</div>"
     },
     "execution_count": 7,
     "metadata": {},
     "output_type": "execute_result"
    }
   ],
   "source": [
    "# Таблица 3. Сравнение средней длины заявки.\n",
    "analyzer.request_length_stat_table()"
   ],
   "metadata": {
    "collapsed": false,
    "ExecuteTime": {
     "end_time": "2024-01-15T12:23:15.294514942Z",
     "start_time": "2024-01-15T12:23:15.268802983Z"
    }
   },
   "id": "d1072d694641ff8e",
   "execution_count": 7
  },
  {
   "cell_type": "code",
   "outputs": [
    {
     "name": "stdout",
     "output_type": "stream",
     "text": [
      "Max time is 68.42224695569523\n"
     ]
    },
    {
     "data": {
      "text/plain": "                Количество заявок  Средняя частота поступления заявок\nАдрес абонента                                                       \n1                              66                            0.964599\n2                              18                            0.263072\n3                              11                            0.160766\n4                               1                            0.014615\n5                               4                            0.058461",
      "text/html": "<div>\n<style scoped>\n    .dataframe tbody tr th:only-of-type {\n        vertical-align: middle;\n    }\n\n    .dataframe tbody tr th {\n        vertical-align: top;\n    }\n\n    .dataframe thead th {\n        text-align: right;\n    }\n</style>\n<table border=\"1\" class=\"dataframe\">\n  <thead>\n    <tr style=\"text-align: right;\">\n      <th></th>\n      <th>Количество заявок</th>\n      <th>Средняя частота поступления заявок</th>\n    </tr>\n    <tr>\n      <th>Адрес абонента</th>\n      <th></th>\n      <th></th>\n    </tr>\n  </thead>\n  <tbody>\n    <tr>\n      <th>1</th>\n      <td>66</td>\n      <td>0.964599</td>\n    </tr>\n    <tr>\n      <th>2</th>\n      <td>18</td>\n      <td>0.263072</td>\n    </tr>\n    <tr>\n      <th>3</th>\n      <td>11</td>\n      <td>0.160766</td>\n    </tr>\n    <tr>\n      <th>4</th>\n      <td>1</td>\n      <td>0.014615</td>\n    </tr>\n    <tr>\n      <th>5</th>\n      <td>4</td>\n      <td>0.058461</td>\n    </tr>\n  </tbody>\n</table>\n</div>"
     },
     "execution_count": 8,
     "metadata": {},
     "output_type": "execute_result"
    }
   ],
   "source": [
    "# Таблица 4. Средняя частота поступления заявок.\n",
    "analyzer.destination_stat_table()"
   ],
   "metadata": {
    "collapsed": false,
    "ExecuteTime": {
     "end_time": "2024-01-15T12:23:16.088425863Z",
     "start_time": "2024-01-15T12:23:16.082486317Z"
    }
   },
   "id": "c0fadad57eca05bc",
   "execution_count": 8
  },
  {
   "cell_type": "code",
   "outputs": [
    {
     "data": {
      "text/plain": "                              Число заявок  Вероятность заявки  \\\nТип сообщения Адрес абонента                                     \n1             1                         53            0.779412   \n              2                          7            0.102941   \n              3                          4            0.058824   \n              4                          0            0.000000   \n              5                          4            0.058824   \n2             1                          0            0.000000   \n              2                          2            0.666667   \n              3                          1            0.333333   \n              4                          0            0.000000   \n              5                          0            0.000000   \n3             1                          6            0.600000   \n              2                          0            0.000000   \n              3                          4            0.400000   \n              4                          0            0.000000   \n              5                          0            0.000000   \n4             1                          7            0.368421   \n              2                          9            0.473684   \n              3                          2            0.105263   \n              4                          1            0.052632   \n              5                          0            0.000000   \n\n                              Теоретическая вероятность  \nТип сообщения Адрес абонента                             \n1             1                                    0.66  \n              2                                    0.11  \n              3                                    0.10  \n              4                                    0.01  \n              5                                    0.12  \n2             1                                    0.22  \n              2                                    0.35  \n              3                                    0.26  \n              4                                    0.08  \n              5                                    0.09  \n3             1                                    0.58  \n              2                                    0.06  \n              3                                    0.24  \n              4                                    0.02  \n              5                                    0.10  \n4             1                                    0.42  \n              2                                    0.29  \n              3                                    0.16  \n              4                                    0.10  \n              5                                    0.03  ",
      "text/html": "<div>\n<style scoped>\n    .dataframe tbody tr th:only-of-type {\n        vertical-align: middle;\n    }\n\n    .dataframe tbody tr th {\n        vertical-align: top;\n    }\n\n    .dataframe thead th {\n        text-align: right;\n    }\n</style>\n<table border=\"1\" class=\"dataframe\">\n  <thead>\n    <tr style=\"text-align: right;\">\n      <th></th>\n      <th></th>\n      <th>Число заявок</th>\n      <th>Вероятность заявки</th>\n      <th>Теоретическая вероятность</th>\n    </tr>\n    <tr>\n      <th>Тип сообщения</th>\n      <th>Адрес абонента</th>\n      <th></th>\n      <th></th>\n      <th></th>\n    </tr>\n  </thead>\n  <tbody>\n    <tr>\n      <th rowspan=\"5\" valign=\"top\">1</th>\n      <th>1</th>\n      <td>53</td>\n      <td>0.779412</td>\n      <td>0.66</td>\n    </tr>\n    <tr>\n      <th>2</th>\n      <td>7</td>\n      <td>0.102941</td>\n      <td>0.11</td>\n    </tr>\n    <tr>\n      <th>3</th>\n      <td>4</td>\n      <td>0.058824</td>\n      <td>0.10</td>\n    </tr>\n    <tr>\n      <th>4</th>\n      <td>0</td>\n      <td>0.000000</td>\n      <td>0.01</td>\n    </tr>\n    <tr>\n      <th>5</th>\n      <td>4</td>\n      <td>0.058824</td>\n      <td>0.12</td>\n    </tr>\n    <tr>\n      <th rowspan=\"5\" valign=\"top\">2</th>\n      <th>1</th>\n      <td>0</td>\n      <td>0.000000</td>\n      <td>0.22</td>\n    </tr>\n    <tr>\n      <th>2</th>\n      <td>2</td>\n      <td>0.666667</td>\n      <td>0.35</td>\n    </tr>\n    <tr>\n      <th>3</th>\n      <td>1</td>\n      <td>0.333333</td>\n      <td>0.26</td>\n    </tr>\n    <tr>\n      <th>4</th>\n      <td>0</td>\n      <td>0.000000</td>\n      <td>0.08</td>\n    </tr>\n    <tr>\n      <th>5</th>\n      <td>0</td>\n      <td>0.000000</td>\n      <td>0.09</td>\n    </tr>\n    <tr>\n      <th rowspan=\"5\" valign=\"top\">3</th>\n      <th>1</th>\n      <td>6</td>\n      <td>0.600000</td>\n      <td>0.58</td>\n    </tr>\n    <tr>\n      <th>2</th>\n      <td>0</td>\n      <td>0.000000</td>\n      <td>0.06</td>\n    </tr>\n    <tr>\n      <th>3</th>\n      <td>4</td>\n      <td>0.400000</td>\n      <td>0.24</td>\n    </tr>\n    <tr>\n      <th>4</th>\n      <td>0</td>\n      <td>0.000000</td>\n      <td>0.02</td>\n    </tr>\n    <tr>\n      <th>5</th>\n      <td>0</td>\n      <td>0.000000</td>\n      <td>0.10</td>\n    </tr>\n    <tr>\n      <th rowspan=\"5\" valign=\"top\">4</th>\n      <th>1</th>\n      <td>7</td>\n      <td>0.368421</td>\n      <td>0.42</td>\n    </tr>\n    <tr>\n      <th>2</th>\n      <td>9</td>\n      <td>0.473684</td>\n      <td>0.29</td>\n    </tr>\n    <tr>\n      <th>3</th>\n      <td>2</td>\n      <td>0.105263</td>\n      <td>0.16</td>\n    </tr>\n    <tr>\n      <th>4</th>\n      <td>1</td>\n      <td>0.052632</td>\n      <td>0.10</td>\n    </tr>\n    <tr>\n      <th>5</th>\n      <td>0</td>\n      <td>0.000000</td>\n      <td>0.03</td>\n    </tr>\n  </tbody>\n</table>\n</div>"
     },
     "execution_count": 9,
     "metadata": {},
     "output_type": "execute_result"
    }
   ],
   "source": [
    "# Таблица 5. Данные о вероятности и числе заявок в потоке.\n",
    "analyzer.destination_and_type_stat_table()\n"
   ],
   "metadata": {
    "collapsed": false,
    "ExecuteTime": {
     "end_time": "2024-01-15T12:23:16.678823475Z",
     "start_time": "2024-01-15T12:23:16.668951545Z"
    }
   },
   "id": "3e5d33022c0b99f6",
   "execution_count": 9
  },
  {
   "cell_type": "code",
   "outputs": [
    {
     "data": {
      "text/plain": "               Мат. ожидание  Дисперсия  Стандартное отклонение  Интенсивность\nТип сообщения                                                                 \n1                   4.760916  97.118374                9.854866       0.993829\n2                   0.148724   0.018482                0.135949      11.018110\n3                   5.491101  29.593722                5.440011       0.779053\n4                   4.156837  95.581329                9.776570       0.444590",
      "text/html": "<div>\n<style scoped>\n    .dataframe tbody tr th:only-of-type {\n        vertical-align: middle;\n    }\n\n    .dataframe tbody tr th {\n        vertical-align: top;\n    }\n\n    .dataframe thead th {\n        text-align: right;\n    }\n</style>\n<table border=\"1\" class=\"dataframe\">\n  <thead>\n    <tr style=\"text-align: right;\">\n      <th></th>\n      <th>Мат. ожидание</th>\n      <th>Дисперсия</th>\n      <th>Стандартное отклонение</th>\n      <th>Интенсивность</th>\n    </tr>\n    <tr>\n      <th>Тип сообщения</th>\n      <th></th>\n      <th></th>\n      <th></th>\n      <th></th>\n    </tr>\n  </thead>\n  <tbody>\n    <tr>\n      <th>1</th>\n      <td>4.760916</td>\n      <td>97.118374</td>\n      <td>9.854866</td>\n      <td>0.993829</td>\n    </tr>\n    <tr>\n      <th>2</th>\n      <td>0.148724</td>\n      <td>0.018482</td>\n      <td>0.135949</td>\n      <td>11.018110</td>\n    </tr>\n    <tr>\n      <th>3</th>\n      <td>5.491101</td>\n      <td>29.593722</td>\n      <td>5.440011</td>\n      <td>0.779053</td>\n    </tr>\n    <tr>\n      <th>4</th>\n      <td>4.156837</td>\n      <td>95.581329</td>\n      <td>9.776570</td>\n      <td>0.444590</td>\n    </tr>\n  </tbody>\n</table>\n</div>"
     },
     "execution_count": 10,
     "metadata": {},
     "output_type": "execute_result"
    }
   ],
   "source": [
    "# Таблица 6. Числовые характеристики типов сообщений\n",
    "analyzer.request_time_stat_table()\n"
   ],
   "metadata": {
    "collapsed": false,
    "ExecuteTime": {
     "end_time": "2024-01-15T12:23:17.692297279Z",
     "start_time": "2024-01-15T12:23:17.680595619Z"
    }
   },
   "id": "e589edb5327ba9c7",
   "execution_count": 10
  },
  {
   "cell_type": "code",
   "outputs": [],
   "source": [],
   "metadata": {
    "collapsed": false
   },
   "id": "6c5db167d8fbcf3b",
   "execution_count": null
  },
  {
   "cell_type": "code",
   "outputs": [],
   "source": [],
   "metadata": {
    "collapsed": false
   },
   "id": "e5f4961686716dd0",
   "execution_count": null
  },
  {
   "cell_type": "code",
   "outputs": [],
   "source": [],
   "metadata": {
    "collapsed": false
   },
   "id": "6e2e7f3c3b9c5755",
   "execution_count": null
  },
  {
   "cell_type": "code",
   "outputs": [],
   "source": [
    "\n"
   ],
   "metadata": {
    "collapsed": false
   },
   "id": "59725d2f81f676e7"
  }
 ],
 "metadata": {
  "kernelspec": {
   "display_name": "Python 3",
   "language": "python",
   "name": "python3"
  },
  "language_info": {
   "codemirror_mode": {
    "name": "ipython",
    "version": 2
   },
   "file_extension": ".py",
   "mimetype": "text/x-python",
   "name": "python",
   "nbconvert_exporter": "python",
   "pygments_lexer": "ipython2",
   "version": "2.7.6"
  }
 },
 "nbformat": 4,
 "nbformat_minor": 5
}
