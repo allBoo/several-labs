{
 "cells": [
  {
   "cell_type": "code",
   "execution_count": 17,
   "id": "initial_id",
   "metadata": {
    "collapsed": true,
    "ExecuteTime": {
     "end_time": "2024-02-26T09:01:42.079068535Z",
     "start_time": "2024-02-26T09:01:42.073944149Z"
    }
   },
   "outputs": [],
   "source": [
    "import math\n",
    "\n",
    "import matplotlib.pyplot as plt\n",
    "import numpy as np\n",
    "import pandas as pd\n"
   ]
  },
  {
   "cell_type": "code",
   "outputs": [],
   "source": [
    "\n",
    "def f(x):\n",
    "   return (x ** 3 + x) ** -1\n",
    "\n",
    "def f_double_prime(x):\n",
    "   return (12 * x**4 + 6 * x**2 + 2) / (x**9 + 3 * x**7 + 3 * x**5 + x**3)\n",
    "\n",
    "a = 1.0\n",
    "b = 2.2\n",
    "e = 0.001"
   ],
   "metadata": {
    "collapsed": false,
    "ExecuteTime": {
     "end_time": "2024-02-26T09:01:42.441743046Z",
     "start_time": "2024-02-26T09:01:42.438652248Z"
    }
   },
   "id": "e266250762e58fb",
   "execution_count": 18
  },
  {
   "cell_type": "code",
   "outputs": [
    {
     "data": {
      "text/plain": "<Figure size 640x480 with 1 Axes>",
      "image/png": "[encoded data removed]"
     },
     "metadata": {},
     "output_type": "display_data"
    }
   ],
   "source": [
    "\n",
    "# Генерируем значения x на отрезке от 0 до 10\n",
    "x_values = np.linspace(0.1, 4, 400)\n",
    "# Вычисляем соответствующие значения y\n",
    "y_values = f(x_values)\n",
    "\n",
    "# Строим график\n",
    "plt.plot(x_values, y_values, label='f(x)')\n",
    "plt.xlabel('x')  # подписываем ось x\n",
    "plt.ylabel('f(x)')  # подписываем ось y\n",
    "plt.grid(True)  # добавляем сетку\n",
    "plt.legend()  # добавляем легенду\n",
    "plt.title('График функции f(x)')  # добавляем заголовок\n",
    "plt.show()\n"
   ],
   "metadata": {
    "collapsed": false,
    "ExecuteTime": {
     "end_time": "2024-02-26T08:47:48.176972950Z",
     "start_time": "2024-02-26T08:47:48.032700682Z"
    }
   },
   "id": "3d481d7d91b6aef2",
   "execution_count": 13
  },
  {
   "cell_type": "code",
   "outputs": [
    {
     "name": "stdout",
     "output_type": "stream",
     "text": [
      "M = 2.5\n",
      "Первоначальное приближение h = 0.0632\n",
      "Первоначальное приближение n = 19\n",
      "Уточненное n = 20\n",
      "Уточненный шаг h = 0.06\n"
     ]
    }
   ],
   "source": [
    "# Находим шаг интегрирования h для вычисления интеграла по формуле трапеций\n",
    "x_interval = np.linspace(a, b, 100)\n",
    "\n",
    "M = np.max(np.abs(f_double_prime(x_interval)))\n",
    "print('M =', M)\n",
    "\n",
    "h = round(math.sqrt((e * 12) / (M * abs(b - a))), 4)\n",
    "print('Первоначальное приближение h =', h)\n",
    "\n",
    "# находим число разбиений\n",
    "n = round((b - a) / h)\n",
    "print('Первоначальное приближение n =', n)\n",
    "\n",
    "# округляем до ближайшего кратного 4\n",
    "is_div_4 = lambda x: x % 4 == 0\n",
    "while not is_div_4(n):\n",
    "   n += 1\n",
    "\n",
    "print('Уточненное n =', n)\n",
    "\n",
    "# пересчитываем шаг h\n",
    "h = round((b - a) / n, 4)\n",
    "print('Уточненный шаг h =', h)"
   ],
   "metadata": {
    "collapsed": false,
    "ExecuteTime": {
     "end_time": "2024-02-26T10:05:41.089355490Z",
     "start_time": "2024-02-26T10:05:41.047038749Z"
    }
   },
   "id": "7e08ba994aa26be2",
   "execution_count": 103
  },
  {
   "cell_type": "code",
   "outputs": [
    {
     "name": "stdout",
     "output_type": "stream",
     "text": [
      "Границы интервала: [1.0, 2.2]\n",
      "Значения функции в интервале\n"
     ]
    },
    {
     "data": {
      "text/plain": "       X    F(X)\n0   1.00  0.5000\n1   1.06  0.4442\n2   1.12  0.3961\n3   1.18  0.3542\n4   1.24  0.3178\n5   1.30  0.2860\n6   1.36  0.2580\n7   1.42  0.2335\n8   1.48  0.2118\n9   1.54  0.1926\n10  1.60  0.1756\n11  1.66  0.1604\n12  1.72  0.1469\n13  1.78  0.1348\n14  1.84  0.1239\n15  1.90  0.1142\n16  1.96  0.1054\n17  2.02  0.0974\n18  2.08  0.0903\n19  2.14  0.0837\n20  2.20  0.0778",
      "text/html": "<div>\n<style scoped>\n    .dataframe tbody tr th:only-of-type {\n        vertical-align: middle;\n    }\n\n    .dataframe tbody tr th {\n        vertical-align: top;\n    }\n\n    .dataframe thead th {\n        text-align: right;\n    }\n</style>\n<table border=\"1\" class=\"dataframe\">\n  <thead>\n    <tr style=\"text-align: right;\">\n      <th></th>\n      <th>X</th>\n      <th>F(X)</th>\n    </tr>\n  </thead>\n  <tbody>\n    <tr>\n      <th>0</th>\n      <td>1.00</td>\n      <td>0.5000</td>\n    </tr>\n    <tr>\n      <th>1</th>\n      <td>1.06</td>\n      <td>0.4442</td>\n    </tr>\n    <tr>\n      <th>2</th>\n      <td>1.12</td>\n      <td>0.3961</td>\n    </tr>\n    <tr>\n      <th>3</th>\n      <td>1.18</td>\n      <td>0.3542</td>\n    </tr>\n    <tr>\n      <th>4</th>\n      <td>1.24</td>\n      <td>0.3178</td>\n    </tr>\n    <tr>\n      <th>5</th>\n      <td>1.30</td>\n      <td>0.2860</td>\n    </tr>\n    <tr>\n      <th>6</th>\n      <td>1.36</td>\n      <td>0.2580</td>\n    </tr>\n    <tr>\n      <th>7</th>\n      <td>1.42</td>\n      <td>0.2335</td>\n    </tr>\n    <tr>\n      <th>8</th>\n      <td>1.48</td>\n      <td>0.2118</td>\n    </tr>\n    <tr>\n      <th>9</th>\n      <td>1.54</td>\n      <td>0.1926</td>\n    </tr>\n    <tr>\n      <th>10</th>\n      <td>1.60</td>\n      <td>0.1756</td>\n    </tr>\n    <tr>\n      <th>11</th>\n      <td>1.66</td>\n      <td>0.1604</td>\n    </tr>\n    <tr>\n      <th>12</th>\n      <td>1.72</td>\n      <td>0.1469</td>\n    </tr>\n    <tr>\n      <th>13</th>\n      <td>1.78</td>\n      <td>0.1348</td>\n    </tr>\n    <tr>\n      <th>14</th>\n      <td>1.84</td>\n      <td>0.1239</td>\n    </tr>\n    <tr>\n      <th>15</th>\n      <td>1.90</td>\n      <td>0.1142</td>\n    </tr>\n    <tr>\n      <th>16</th>\n      <td>1.96</td>\n      <td>0.1054</td>\n    </tr>\n    <tr>\n      <th>17</th>\n      <td>2.02</td>\n      <td>0.0974</td>\n    </tr>\n    <tr>\n      <th>18</th>\n      <td>2.08</td>\n      <td>0.0903</td>\n    </tr>\n    <tr>\n      <th>19</th>\n      <td>2.14</td>\n      <td>0.0837</td>\n    </tr>\n    <tr>\n      <th>20</th>\n      <td>2.20</td>\n      <td>0.0778</td>\n    </tr>\n  </tbody>\n</table>\n</div>"
     },
     "execution_count": 126,
     "metadata": {},
     "output_type": "execute_result"
    }
   ],
   "source": [
    "# задаем интервал интегрирования\n",
    "interval = np.linspace(a, b, n+1)\n",
    "print(f'Границы интервала: [{interval[0]}, {interval[-1]}]')\n",
    "\n",
    "# вычисляем значения функции в точках интервала\n",
    "values = np.round(f(interval), 4)\n",
    "print('Значения функции в интервале')\n",
    "pd.DataFrame({'X': interval, 'F(X)': values})"
   ],
   "metadata": {
    "collapsed": false,
    "ExecuteTime": {
     "end_time": "2024-02-26T10:21:36.866621822Z",
     "start_time": "2024-02-26T10:21:36.824401365Z"
    }
   },
   "id": "66bb6c174d68e37b",
   "execution_count": 126
  },
  {
   "cell_type": "code",
   "outputs": [
    {
     "name": "stdout",
     "output_type": "stream",
     "text": [
      "Значения функции и интеграла\n"
     ]
    },
    {
     "data": {
      "text/plain": "       X    F(X)  Trap(X)\n0   1.00  0.5000   0.2500\n1   1.06  0.4442   0.4442\n2   1.12  0.3961   0.3961\n3   1.18  0.3542   0.3542\n4   1.24  0.3178   0.3178\n5   1.30  0.2860   0.2860\n6   1.36  0.2580   0.2580\n7   1.42  0.2335   0.2335\n8   1.48  0.2118   0.2118\n9   1.54  0.1926   0.1926\n10  1.60  0.1756   0.1756\n11  1.66  0.1604   0.1604\n12  1.72  0.1469   0.1469\n13  1.78  0.1348   0.1348\n14  1.84  0.1239   0.1239\n15  1.90  0.1142   0.1142\n16  1.96  0.1054   0.1054\n17  2.02  0.0974   0.0974\n18  2.08  0.0903   0.0903\n19  2.14  0.0837   0.0837\n20  2.20  0.0778   0.0389",
      "text/html": "<div>\n<style scoped>\n    .dataframe tbody tr th:only-of-type {\n        vertical-align: middle;\n    }\n\n    .dataframe tbody tr th {\n        vertical-align: top;\n    }\n\n    .dataframe thead th {\n        text-align: right;\n    }\n</style>\n<table border=\"1\" class=\"dataframe\">\n  <thead>\n    <tr style=\"text-align: right;\">\n      <th></th>\n      <th>X</th>\n      <th>F(X)</th>\n      <th>Trap(X)</th>\n    </tr>\n  </thead>\n  <tbody>\n    <tr>\n      <th>0</th>\n      <td>1.00</td>\n      <td>0.5000</td>\n      <td>0.2500</td>\n    </tr>\n    <tr>\n      <th>1</th>\n      <td>1.06</td>\n      <td>0.4442</td>\n      <td>0.4442</td>\n    </tr>\n    <tr>\n      <th>2</th>\n      <td>1.12</td>\n      <td>0.3961</td>\n      <td>0.3961</td>\n    </tr>\n    <tr>\n      <th>3</th>\n      <td>1.18</td>\n      <td>0.3542</td>\n      <td>0.3542</td>\n    </tr>\n    <tr>\n      <th>4</th>\n      <td>1.24</td>\n      <td>0.3178</td>\n      <td>0.3178</td>\n    </tr>\n    <tr>\n      <th>5</th>\n      <td>1.30</td>\n      <td>0.2860</td>\n      <td>0.2860</td>\n    </tr>\n    <tr>\n      <th>6</th>\n      <td>1.36</td>\n      <td>0.2580</td>\n      <td>0.2580</td>\n    </tr>\n    <tr>\n      <th>7</th>\n      <td>1.42</td>\n      <td>0.2335</td>\n      <td>0.2335</td>\n    </tr>\n    <tr>\n      <th>8</th>\n      <td>1.48</td>\n      <td>0.2118</td>\n      <td>0.2118</td>\n    </tr>\n    <tr>\n      <th>9</th>\n      <td>1.54</td>\n      <td>0.1926</td>\n      <td>0.1926</td>\n    </tr>\n    <tr>\n      <th>10</th>\n      <td>1.60</td>\n      <td>0.1756</td>\n      <td>0.1756</td>\n    </tr>\n    <tr>\n      <th>11</th>\n      <td>1.66</td>\n      <td>0.1604</td>\n      <td>0.1604</td>\n    </tr>\n    <tr>\n      <th>12</th>\n      <td>1.72</td>\n      <td>0.1469</td>\n      <td>0.1469</td>\n    </tr>\n    <tr>\n      <th>13</th>\n      <td>1.78</td>\n      <td>0.1348</td>\n      <td>0.1348</td>\n    </tr>\n    <tr>\n      <th>14</th>\n      <td>1.84</td>\n      <td>0.1239</td>\n      <td>0.1239</td>\n    </tr>\n    <tr>\n      <th>15</th>\n      <td>1.90</td>\n      <td>0.1142</td>\n      <td>0.1142</td>\n    </tr>\n    <tr>\n      <th>16</th>\n      <td>1.96</td>\n      <td>0.1054</td>\n      <td>0.1054</td>\n    </tr>\n    <tr>\n      <th>17</th>\n      <td>2.02</td>\n      <td>0.0974</td>\n      <td>0.0974</td>\n    </tr>\n    <tr>\n      <th>18</th>\n      <td>2.08</td>\n      <td>0.0903</td>\n      <td>0.0903</td>\n    </tr>\n    <tr>\n      <th>19</th>\n      <td>2.14</td>\n      <td>0.0837</td>\n      <td>0.0837</td>\n    </tr>\n    <tr>\n      <th>20</th>\n      <td>2.20</td>\n      <td>0.0778</td>\n      <td>0.0389</td>\n    </tr>\n  </tbody>\n</table>\n</div>"
     },
     "execution_count": 105,
     "metadata": {},
     "output_type": "execute_result"
    }
   ],
   "source": [
    "# считаем интеграл по формуле трапеций\n",
    "trap_values = values.copy()\n",
    "trap_values[0] /= 2\n",
    "trap_values[-1] /= 2\n",
    "\n",
    "print('Значения функции и интеграла')\n",
    "pd.DataFrame({'X': interval, 'F(X)': values, 'Trap(X)': trap_values})\n"
   ],
   "metadata": {
    "collapsed": false,
    "ExecuteTime": {
     "end_time": "2024-02-26T10:05:43.137977933Z",
     "start_time": "2024-02-26T10:05:43.124436207Z"
    }
   },
   "id": "55748afed9370698",
   "execution_count": 105
  },
  {
   "cell_type": "code",
   "outputs": [
    {
     "name": "stdout",
     "output_type": "stream",
     "text": [
      "Рассчитанный интеграл по формуле трапеций с шагом h:  0.2529\n"
     ]
    }
   ],
   "source": [
    "S_trap = round(h * np.sum(trap_values), 4)\n",
    "print('Рассчитанный интеграл по формуле трапеций с шагом h: ', S_trap)"
   ],
   "metadata": {
    "collapsed": false,
    "ExecuteTime": {
     "end_time": "2024-02-26T10:05:44.102871266Z",
     "start_time": "2024-02-26T10:05:44.096044613Z"
    }
   },
   "id": "9f026b0ac7c138cb",
   "execution_count": 106
  },
  {
   "cell_type": "code",
   "outputs": [
    {
     "name": "stdout",
     "output_type": "stream",
     "text": [
      "Значения функции и интеграла\n"
     ]
    },
    {
     "data": {
      "text/plain": "       X    F(X)  Simpson(X)\n0   1.00  0.5000      0.2500\n1   1.06  0.4442      0.8884\n2   1.12  0.3961      0.3961\n3   1.18  0.3542      0.7084\n4   1.24  0.3178      0.3178\n5   1.30  0.2860      0.5720\n6   1.36  0.2580      0.2580\n7   1.42  0.2335      0.4670\n8   1.48  0.2118      0.2118\n9   1.54  0.1926      0.3852\n10  1.60  0.1756      0.1756\n11  1.66  0.1604      0.3208\n12  1.72  0.1469      0.1469\n13  1.78  0.1348      0.2696\n14  1.84  0.1239      0.1239\n15  1.90  0.1142      0.2284\n16  1.96  0.1054      0.1054\n17  2.02  0.0974      0.1948\n18  2.08  0.0903      0.0903\n19  2.14  0.0837      0.1674\n20  2.20  0.0778      0.0389",
      "text/html": "<div>\n<style scoped>\n    .dataframe tbody tr th:only-of-type {\n        vertical-align: middle;\n    }\n\n    .dataframe tbody tr th {\n        vertical-align: top;\n    }\n\n    .dataframe thead th {\n        text-align: right;\n    }\n</style>\n<table border=\"1\" class=\"dataframe\">\n  <thead>\n    <tr style=\"text-align: right;\">\n      <th></th>\n      <th>X</th>\n      <th>F(X)</th>\n      <th>Simpson(X)</th>\n    </tr>\n  </thead>\n  <tbody>\n    <tr>\n      <th>0</th>\n      <td>1.00</td>\n      <td>0.5000</td>\n      <td>0.2500</td>\n    </tr>\n    <tr>\n      <th>1</th>\n      <td>1.06</td>\n      <td>0.4442</td>\n      <td>0.8884</td>\n    </tr>\n    <tr>\n      <th>2</th>\n      <td>1.12</td>\n      <td>0.3961</td>\n      <td>0.3961</td>\n    </tr>\n    <tr>\n      <th>3</th>\n      <td>1.18</td>\n      <td>0.3542</td>\n      <td>0.7084</td>\n    </tr>\n    <tr>\n      <th>4</th>\n      <td>1.24</td>\n      <td>0.3178</td>\n      <td>0.3178</td>\n    </tr>\n    <tr>\n      <th>5</th>\n      <td>1.30</td>\n      <td>0.2860</td>\n      <td>0.5720</td>\n    </tr>\n    <tr>\n      <th>6</th>\n      <td>1.36</td>\n      <td>0.2580</td>\n      <td>0.2580</td>\n    </tr>\n    <tr>\n      <th>7</th>\n      <td>1.42</td>\n      <td>0.2335</td>\n      <td>0.4670</td>\n    </tr>\n    <tr>\n      <th>8</th>\n      <td>1.48</td>\n      <td>0.2118</td>\n      <td>0.2118</td>\n    </tr>\n    <tr>\n      <th>9</th>\n      <td>1.54</td>\n      <td>0.1926</td>\n      <td>0.3852</td>\n    </tr>\n    <tr>\n      <th>10</th>\n      <td>1.60</td>\n      <td>0.1756</td>\n      <td>0.1756</td>\n    </tr>\n    <tr>\n      <th>11</th>\n      <td>1.66</td>\n      <td>0.1604</td>\n      <td>0.3208</td>\n    </tr>\n    <tr>\n      <th>12</th>\n      <td>1.72</td>\n      <td>0.1469</td>\n      <td>0.1469</td>\n    </tr>\n    <tr>\n      <th>13</th>\n      <td>1.78</td>\n      <td>0.1348</td>\n      <td>0.2696</td>\n    </tr>\n    <tr>\n      <th>14</th>\n      <td>1.84</td>\n      <td>0.1239</td>\n      <td>0.1239</td>\n    </tr>\n    <tr>\n      <th>15</th>\n      <td>1.90</td>\n      <td>0.1142</td>\n      <td>0.2284</td>\n    </tr>\n    <tr>\n      <th>16</th>\n      <td>1.96</td>\n      <td>0.1054</td>\n      <td>0.1054</td>\n    </tr>\n    <tr>\n      <th>17</th>\n      <td>2.02</td>\n      <td>0.0974</td>\n      <td>0.1948</td>\n    </tr>\n    <tr>\n      <th>18</th>\n      <td>2.08</td>\n      <td>0.0903</td>\n      <td>0.0903</td>\n    </tr>\n    <tr>\n      <th>19</th>\n      <td>2.14</td>\n      <td>0.0837</td>\n      <td>0.1674</td>\n    </tr>\n    <tr>\n      <th>20</th>\n      <td>2.20</td>\n      <td>0.0778</td>\n      <td>0.0389</td>\n    </tr>\n  </tbody>\n</table>\n</div>"
     },
     "execution_count": 107,
     "metadata": {},
     "output_type": "execute_result"
    }
   ],
   "source": [
    "# считаем интеграл по формуле Симпсона\n",
    "simp_values = values.copy()\n",
    "simp_values[0] /= 2\n",
    "simp_values[-1] /= 2\n",
    "simp_values[1:-1:2] *= 2\n",
    "\n",
    "print('Значения функции и интеграла')\n",
    "pd.DataFrame({'X': interval, 'F(X)': values, 'Simpson(X)': simp_values})\n"
   ],
   "metadata": {
    "collapsed": false,
    "ExecuteTime": {
     "end_time": "2024-02-26T10:05:44.676094653Z",
     "start_time": "2024-02-26T10:05:44.653237845Z"
    }
   },
   "id": "564a2fed087b45",
   "execution_count": 107
  },
  {
   "cell_type": "code",
   "outputs": [
    {
     "name": "stdout",
     "output_type": "stream",
     "text": [
      "Рассчитанный интеграл по формуле Симпсона с шагом h:  0.252668\n"
     ]
    }
   ],
   "source": [
    "S_simp = round(2 * h * np.sum(simp_values) / 3, 6)\n",
    "print('Рассчитанный интеграл по формуле Симпсона с шагом h: ', S_simp)"
   ],
   "metadata": {
    "collapsed": false,
    "ExecuteTime": {
     "end_time": "2024-02-26T10:05:45.518025851Z",
     "start_time": "2024-02-26T10:05:45.510617624Z"
    }
   },
   "id": "61a4f9fae19e0bf3",
   "execution_count": 108
  },
  {
   "cell_type": "code",
   "outputs": [
    {
     "name": "stdout",
     "output_type": "stream",
     "text": [
      "Шаг 2h = 0.12, число разбиений n = 10\n",
      "Границы интервала: [1.0, 2.2]\n",
      "Значения функции в интервале\n"
     ]
    },
    {
     "data": {
      "text/plain": "       X    F(X)\n0   1.00  0.5000\n1   1.12  0.3961\n2   1.24  0.3178\n3   1.36  0.2580\n4   1.48  0.2118\n5   1.60  0.1756\n6   1.72  0.1469\n7   1.84  0.1239\n8   1.96  0.1054\n9   2.08  0.0903\n10  2.20  0.0778",
      "text/html": "<div>\n<style scoped>\n    .dataframe tbody tr th:only-of-type {\n        vertical-align: middle;\n    }\n\n    .dataframe tbody tr th {\n        vertical-align: top;\n    }\n\n    .dataframe thead th {\n        text-align: right;\n    }\n</style>\n<table border=\"1\" class=\"dataframe\">\n  <thead>\n    <tr style=\"text-align: right;\">\n      <th></th>\n      <th>X</th>\n      <th>F(X)</th>\n    </tr>\n  </thead>\n  <tbody>\n    <tr>\n      <th>0</th>\n      <td>1.00</td>\n      <td>0.5000</td>\n    </tr>\n    <tr>\n      <th>1</th>\n      <td>1.12</td>\n      <td>0.3961</td>\n    </tr>\n    <tr>\n      <th>2</th>\n      <td>1.24</td>\n      <td>0.3178</td>\n    </tr>\n    <tr>\n      <th>3</th>\n      <td>1.36</td>\n      <td>0.2580</td>\n    </tr>\n    <tr>\n      <th>4</th>\n      <td>1.48</td>\n      <td>0.2118</td>\n    </tr>\n    <tr>\n      <th>5</th>\n      <td>1.60</td>\n      <td>0.1756</td>\n    </tr>\n    <tr>\n      <th>6</th>\n      <td>1.72</td>\n      <td>0.1469</td>\n    </tr>\n    <tr>\n      <th>7</th>\n      <td>1.84</td>\n      <td>0.1239</td>\n    </tr>\n    <tr>\n      <th>8</th>\n      <td>1.96</td>\n      <td>0.1054</td>\n    </tr>\n    <tr>\n      <th>9</th>\n      <td>2.08</td>\n      <td>0.0903</td>\n    </tr>\n    <tr>\n      <th>10</th>\n      <td>2.20</td>\n      <td>0.0778</td>\n    </tr>\n  </tbody>\n</table>\n</div>"
     },
     "execution_count": 109,
     "metadata": {},
     "output_type": "execute_result"
    }
   ],
   "source": [
    "# Пересчитываем интеграл с шагом 2h\n",
    "n2 = n // 2\n",
    "h2 = h * 2\n",
    "\n",
    "print(f\"Шаг 2h = {h2}, число разбиений n = {n2}\")\n",
    "\n",
    "# задаем интервал интегрирования\n",
    "interval2 = np.linspace(a, b, n2+1)\n",
    "print(f'Границы интервала: [{interval2[0]}, {interval2[-1]}]')\n",
    "\n",
    "# вычисляем значения функции в точках интервала\n",
    "values2 = np.round(f(interval2), 4)\n",
    "print('Значения функции в интервале')\n",
    "pd.DataFrame({'X': interval2, 'F(X)': values2})"
   ],
   "metadata": {
    "collapsed": false,
    "ExecuteTime": {
     "end_time": "2024-02-26T10:05:48.153668728Z",
     "start_time": "2024-02-26T10:05:48.148910523Z"
    }
   },
   "id": "cec9d1a60657c623",
   "execution_count": 109
  },
  {
   "cell_type": "code",
   "outputs": [
    {
     "name": "stdout",
     "output_type": "stream",
     "text": [
      "Значения функции и интеграла\n"
     ]
    },
    {
     "data": {
      "text/plain": "       X    F(X)  Trap(X)\n0   1.00  0.5000   0.2500\n1   1.12  0.3961   0.3961\n2   1.24  0.3178   0.3178\n3   1.36  0.2580   0.2580\n4   1.48  0.2118   0.2118\n5   1.60  0.1756   0.1756\n6   1.72  0.1469   0.1469\n7   1.84  0.1239   0.1239\n8   1.96  0.1054   0.1054\n9   2.08  0.0903   0.0903\n10  2.20  0.0778   0.0389",
      "text/html": "<div>\n<style scoped>\n    .dataframe tbody tr th:only-of-type {\n        vertical-align: middle;\n    }\n\n    .dataframe tbody tr th {\n        vertical-align: top;\n    }\n\n    .dataframe thead th {\n        text-align: right;\n    }\n</style>\n<table border=\"1\" class=\"dataframe\">\n  <thead>\n    <tr style=\"text-align: right;\">\n      <th></th>\n      <th>X</th>\n      <th>F(X)</th>\n      <th>Trap(X)</th>\n    </tr>\n  </thead>\n  <tbody>\n    <tr>\n      <th>0</th>\n      <td>1.00</td>\n      <td>0.5000</td>\n      <td>0.2500</td>\n    </tr>\n    <tr>\n      <th>1</th>\n      <td>1.12</td>\n      <td>0.3961</td>\n      <td>0.3961</td>\n    </tr>\n    <tr>\n      <th>2</th>\n      <td>1.24</td>\n      <td>0.3178</td>\n      <td>0.3178</td>\n    </tr>\n    <tr>\n      <th>3</th>\n      <td>1.36</td>\n      <td>0.2580</td>\n      <td>0.2580</td>\n    </tr>\n    <tr>\n      <th>4</th>\n      <td>1.48</td>\n      <td>0.2118</td>\n      <td>0.2118</td>\n    </tr>\n    <tr>\n      <th>5</th>\n      <td>1.60</td>\n      <td>0.1756</td>\n      <td>0.1756</td>\n    </tr>\n    <tr>\n      <th>6</th>\n      <td>1.72</td>\n      <td>0.1469</td>\n      <td>0.1469</td>\n    </tr>\n    <tr>\n      <th>7</th>\n      <td>1.84</td>\n      <td>0.1239</td>\n      <td>0.1239</td>\n    </tr>\n    <tr>\n      <th>8</th>\n      <td>1.96</td>\n      <td>0.1054</td>\n      <td>0.1054</td>\n    </tr>\n    <tr>\n      <th>9</th>\n      <td>2.08</td>\n      <td>0.0903</td>\n      <td>0.0903</td>\n    </tr>\n    <tr>\n      <th>10</th>\n      <td>2.20</td>\n      <td>0.0778</td>\n      <td>0.0389</td>\n    </tr>\n  </tbody>\n</table>\n</div>"
     },
     "execution_count": 110,
     "metadata": {},
     "output_type": "execute_result"
    }
   ],
   "source": [
    "# считаем интеграл по формуле трапеций\n",
    "trap_values2 = values2.copy()\n",
    "trap_values2[0] /= 2\n",
    "trap_values2[-1] /= 2\n",
    "\n",
    "print('Значения функции и интеграла')\n",
    "pd.DataFrame({'X': interval2, 'F(X)': values2, 'Trap(X)': trap_values2})\n"
   ],
   "metadata": {
    "collapsed": false,
    "ExecuteTime": {
     "end_time": "2024-02-26T10:06:08.349940008Z",
     "start_time": "2024-02-26T10:06:08.307959098Z"
    }
   },
   "id": "4e287b454c66b440",
   "execution_count": 110
  },
  {
   "cell_type": "code",
   "outputs": [
    {
     "name": "stdout",
     "output_type": "stream",
     "text": [
      "Рассчитанный интеграл по формуле трапеций с шагом 2h:  0.2538\n"
     ]
    }
   ],
   "source": [
    "S_trap2 = round(h2 * np.sum(trap_values2), 4)\n",
    "print('Рассчитанный интеграл по формуле трапеций с шагом 2h: ', S_trap2)"
   ],
   "metadata": {
    "collapsed": false,
    "ExecuteTime": {
     "end_time": "2024-02-26T10:06:43.453236688Z",
     "start_time": "2024-02-26T10:06:43.411878830Z"
    }
   },
   "id": "d47908687f9c7659",
   "execution_count": 113
  },
  {
   "cell_type": "code",
   "outputs": [
    {
     "name": "stdout",
     "output_type": "stream",
     "text": [
      "Значения функции и интеграла\n"
     ]
    },
    {
     "data": {
      "text/plain": "       X    F(X)  Simpson(X)\n0   1.00  0.5000      0.2500\n1   1.12  0.3961      0.7922\n2   1.24  0.3178      0.3178\n3   1.36  0.2580      0.5160\n4   1.48  0.2118      0.2118\n5   1.60  0.1756      0.3512\n6   1.72  0.1469      0.1469\n7   1.84  0.1239      0.2478\n8   1.96  0.1054      0.1054\n9   2.08  0.0903      0.1806\n10  2.20  0.0778      0.0389",
      "text/html": "<div>\n<style scoped>\n    .dataframe tbody tr th:only-of-type {\n        vertical-align: middle;\n    }\n\n    .dataframe tbody tr th {\n        vertical-align: top;\n    }\n\n    .dataframe thead th {\n        text-align: right;\n    }\n</style>\n<table border=\"1\" class=\"dataframe\">\n  <thead>\n    <tr style=\"text-align: right;\">\n      <th></th>\n      <th>X</th>\n      <th>F(X)</th>\n      <th>Simpson(X)</th>\n    </tr>\n  </thead>\n  <tbody>\n    <tr>\n      <th>0</th>\n      <td>1.00</td>\n      <td>0.5000</td>\n      <td>0.2500</td>\n    </tr>\n    <tr>\n      <th>1</th>\n      <td>1.12</td>\n      <td>0.3961</td>\n      <td>0.7922</td>\n    </tr>\n    <tr>\n      <th>2</th>\n      <td>1.24</td>\n      <td>0.3178</td>\n      <td>0.3178</td>\n    </tr>\n    <tr>\n      <th>3</th>\n      <td>1.36</td>\n      <td>0.2580</td>\n      <td>0.5160</td>\n    </tr>\n    <tr>\n      <th>4</th>\n      <td>1.48</td>\n      <td>0.2118</td>\n      <td>0.2118</td>\n    </tr>\n    <tr>\n      <th>5</th>\n      <td>1.60</td>\n      <td>0.1756</td>\n      <td>0.3512</td>\n    </tr>\n    <tr>\n      <th>6</th>\n      <td>1.72</td>\n      <td>0.1469</td>\n      <td>0.1469</td>\n    </tr>\n    <tr>\n      <th>7</th>\n      <td>1.84</td>\n      <td>0.1239</td>\n      <td>0.2478</td>\n    </tr>\n    <tr>\n      <th>8</th>\n      <td>1.96</td>\n      <td>0.1054</td>\n      <td>0.1054</td>\n    </tr>\n    <tr>\n      <th>9</th>\n      <td>2.08</td>\n      <td>0.0903</td>\n      <td>0.1806</td>\n    </tr>\n    <tr>\n      <th>10</th>\n      <td>2.20</td>\n      <td>0.0778</td>\n      <td>0.0389</td>\n    </tr>\n  </tbody>\n</table>\n</div>"
     },
     "execution_count": 114,
     "metadata": {},
     "output_type": "execute_result"
    }
   ],
   "source": [
    "# считаем интеграл по формуле Симпсона\n",
    "simp_values2 = values2.copy()\n",
    "simp_values2[0] /= 2\n",
    "simp_values2[-1] /= 2\n",
    "simp_values2[1:-1:2] *= 2\n",
    "\n",
    "print('Значения функции и интеграла')\n",
    "pd.DataFrame({'X': interval2, 'F(X)': values2, 'Simpson(X)': simp_values2})\n"
   ],
   "metadata": {
    "collapsed": false,
    "ExecuteTime": {
     "end_time": "2024-02-26T10:07:16.223426776Z",
     "start_time": "2024-02-26T10:07:16.178007854Z"
    }
   },
   "id": "79e8499dcd791fbf",
   "execution_count": 114
  },
  {
   "cell_type": "code",
   "outputs": [
    {
     "name": "stdout",
     "output_type": "stream",
     "text": [
      "Рассчитанный интеграл по формуле Симпсона с шагом 2h:  0.252688\n"
     ]
    }
   ],
   "source": [
    "S_simp2 = round(2 * h2 * np.sum(simp_values2) / 3, 6)\n",
    "print('Рассчитанный интеграл по формуле Симпсона с шагом 2h: ', S_simp2)"
   ],
   "metadata": {
    "collapsed": false,
    "ExecuteTime": {
     "end_time": "2024-02-26T10:12:29.518266354Z",
     "start_time": "2024-02-26T10:12:29.477674097Z"
    }
   },
   "id": "d973089447efb7ad",
   "execution_count": 121
  },
  {
   "cell_type": "code",
   "outputs": [],
   "source": [
    "# Считаем погрешности\n",
    "\n",
    "R_trap = abs(S_trap - S_trap2) / 3\n",
    "R_simps = abs(S_simp - S_simp2) / 15\n"
   ],
   "metadata": {
    "collapsed": false,
    "ExecuteTime": {
     "end_time": "2024-02-26T10:14:17.502376240Z",
     "start_time": "2024-02-26T10:14:17.491370571Z"
    }
   },
   "id": "d67a97ad79bfc115",
   "execution_count": 124
  },
  {
   "cell_type": "code",
   "outputs": [
    {
     "name": "stdout",
     "output_type": "stream",
     "text": [
      "ИТОГИ:\n"
     ]
    },
    {
     "data": {
      "text/plain": "   S Трап h  S Трап 2h  Погрешность трапеций  S Симпсон h  S Симпсон 2h  \\\n0    0.2529     0.2538                0.0003     0.252668      0.252688   \n\n   Погрешность симпсона  \n0              0.000001  ",
      "text/html": "<div>\n<style scoped>\n    .dataframe tbody tr th:only-of-type {\n        vertical-align: middle;\n    }\n\n    .dataframe tbody tr th {\n        vertical-align: top;\n    }\n\n    .dataframe thead th {\n        text-align: right;\n    }\n</style>\n<table border=\"1\" class=\"dataframe\">\n  <thead>\n    <tr style=\"text-align: right;\">\n      <th></th>\n      <th>S Трап h</th>\n      <th>S Трап 2h</th>\n      <th>Погрешность трапеций</th>\n      <th>S Симпсон h</th>\n      <th>S Симпсон 2h</th>\n      <th>Погрешность симпсона</th>\n    </tr>\n  </thead>\n  <tbody>\n    <tr>\n      <th>0</th>\n      <td>0.2529</td>\n      <td>0.2538</td>\n      <td>0.0003</td>\n      <td>0.252668</td>\n      <td>0.252688</td>\n      <td>0.000001</td>\n    </tr>\n  </tbody>\n</table>\n</div>"
     },
     "execution_count": 125,
     "metadata": {},
     "output_type": "execute_result"
    }
   ],
   "source": [
    "print('ИТОГИ:')\n",
    "pd.DataFrame({\n",
    "   'S Трап h': [S_trap], \n",
    "   'S Трап 2h': [S_trap2], \n",
    "   'Погрешность трапеций': [R_trap], \n",
    "   'S Симпсон h': [S_simp], \n",
    "   'S Симпсон 2h': [S_simp2],\n",
    "   'Погрешность симпсона': [R_simps],\n",
    "})\n"
   ],
   "metadata": {
    "collapsed": false,
    "ExecuteTime": {
     "end_time": "2024-02-26T10:14:18.001827596Z",
     "start_time": "2024-02-26T10:14:17.997885526Z"
    }
   },
   "id": "c609d95916fba4cb",
   "execution_count": 125
  },
  {
   "cell_type": "code",
   "outputs": [],
   "source": [],
   "metadata": {
    "collapsed": false
   },
   "id": "1dd231882bffc223"
  }
 ],
 "metadata": {
  "kernelspec": {
   "display_name": "Python 3",
   "language": "python",
   "name": "python3"
  },
  "language_info": {
   "codemirror_mode": {
    "name": "ipython",
    "version": 2
   },
   "file_extension": ".py",
   "mimetype": "text/x-python",
   "name": "python",
   "nbconvert_exporter": "python",
   "pygments_lexer": "ipython2",
   "version": "2.7.6"
  }
 },
 "nbformat": 4,
 "nbformat_minor": 5
}
