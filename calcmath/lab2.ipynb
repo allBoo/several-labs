{
 "cells": [
  {
   "cell_type": "code",
   "execution_count": 39,
   "id": "initial_id",
   "metadata": {
    "collapsed": true,
    "ExecuteTime": {
     "end_time": "2024-02-26T10:53:33.871163643Z",
     "start_time": "2024-02-26T10:53:33.830277651Z"
    }
   },
   "outputs": [],
   "source": [
    "import math\n",
    "\n",
    "import matplotlib.pyplot as plt\n",
    "import numpy as np\n",
    "import pandas as pd\n"
   ]
  },
  {
   "cell_type": "code",
   "outputs": [],
   "source": [
    "def f(x):\n",
    "   return 1.5 - 0.4 * np.sqrt(x ** 3) - np.e ** (-x ** 2) * np.sin(x)\n",
    "\n",
    "def f_prime(x):\n",
    "    return 2 * x * np.e ** (-x ** 2) * np.sin(x) - np.e ** (-x ** 2) * np.cos(x) - 3 * np.sqrt(x) / 5\n",
    "\n",
    "def f_double_prime(x):\n",
    "    return -4 * x ** 2 * np.e ** (-x ** 2) * np.sin(x) + 4 * x * np.e ** (-x ** 2) * np.cos(x) + 3 * np.e ** (-x ** 2) * np.sin(x) - 3 / 10 * np.sqrt(x)\n",
    "\n",
    "interval = np.linspace(2, 3, 100)\n"
   ],
   "metadata": {
    "collapsed": false,
    "ExecuteTime": {
     "end_time": "2024-02-26T14:53:26.198045666Z",
     "start_time": "2024-02-26T14:53:26.157863686Z"
    }
   },
   "id": "c7d4d4841795a111",
   "execution_count": 70
  },
  {
   "cell_type": "code",
   "outputs": [
    {
     "data": {
      "text/plain": "<Figure size 640x480 with 1 Axes>",
      "image/png": "[encoded data removed]"
     },
     "metadata": {},
     "output_type": "display_data"
    }
   ],
   "source": [
    "# Генерируем значения x на отрезке от 0 до 10\n",
    "x_values = np.linspace(0, 10, 400)\n",
    "# Вычисляем соответствующие значения y\n",
    "y_values = f(x_values)\n",
    "\n",
    "# Строим график\n",
    "plt.plot(x_values, y_values, label='f(x)')\n",
    "plt.xlabel('x')  # подписываем ось x\n",
    "plt.ylabel('f(x)')  # подписываем ось y\n",
    "plt.grid(True)  # добавляем сетку\n",
    "plt.legend()  # добавляем легенду\n",
    "plt.title('График функции f(x)')  # добавляем заголовок\n",
    "plt.show()\n"
   ],
   "metadata": {
    "collapsed": false,
    "ExecuteTime": {
     "end_time": "2024-02-26T11:11:25.722308391Z",
     "start_time": "2024-02-26T11:11:25.564649014Z"
    }
   },
   "id": "df0a2bc672482a85",
   "execution_count": 56
  },
  {
   "cell_type": "code",
   "outputs": [],
   "source": [],
   "metadata": {
    "collapsed": false,
    "ExecuteTime": {
     "end_time": "2024-02-25T22:29:01.141688670Z",
     "start_time": "2024-02-25T22:29:01.100636135Z"
    }
   },
   "id": "790618f998dd3864",
   "execution_count": 36
  },
  {
   "cell_type": "code",
   "outputs": [
    {
     "name": "stdout",
     "output_type": "stream",
     "text": [
      "Q[2,3] = 1.0390038162059896\n",
      "K = -0.52\n",
      "Условие сходимости для k=-0.52 выполнено: q = 0.9980842619345953\n",
      "Оптимизируем k для достижения меньшего числа итераций путем уменьшения целевого коэффициента q до 0.3 (выведен методом научного тыка)\n",
      "k=-0.52, q = 0.9980842619345953, увеличиваем k\n",
      "k=-0.57, q = 0.8228137126420871, увеличиваем k\n",
      "k=-0.63, q = 0.649212406676174, увеличиваем k\n",
      "k=-0.69, q = 0.5058026321825937, увеличиваем k\n",
      "k=-0.76, q = 0.36711028448156524, увеличиваем k\n",
      "Найден оптимальный коэффициент k = -0.84\n",
      "\n",
      "Таблица итераций:\n",
      "          X  Deviation\n",
      "0  2.419018   0.419018\n",
      "1  2.410876  -0.008142\n",
      "2  2.411659   0.000783\n",
      "\n",
      "Корень найден: 2.411658975773383\n",
      "За 3 итераций\n"
     ]
    }
   ],
   "source": [
    "\n",
    "def simple_iteration_method(g, x0, epsilon=0.001, max_iterations=1000):\n",
    "    df = pd.DataFrame(columns=['X', 'Deviation'])\n",
    "    \n",
    "    x_prev = x0\n",
    "    for iteration in range(max_iterations):\n",
    "        x_next = g(x_prev)\n",
    "        deviation = x_next - x_prev\n",
    "        \n",
    "        df.loc[iteration] = [x_next, deviation]\n",
    "        \n",
    "        if abs(deviation) < epsilon:\n",
    "            return x_next, df\n",
    "        \n",
    "        x_prev = x_next\n",
    "\n",
    "    return None, df  # Если не достигли необходимой точности за максимальное количество итераций\n",
    "\n",
    "# Функция преобразования для метода простых итераций\n",
    "def g(k):\n",
    "    return lambda x: x - f(x) / k\n",
    "\n",
    "def g_prime(k):\n",
    "    return lambda x: 1 - f_prime(x) / k\n",
    "\n",
    "# Начальное приближение\n",
    "x0 = 2.0\n",
    "# точность\n",
    "epsilon = 0.001\n",
    "\n",
    "# Находим K на отрезке [2, 3]\n",
    "Q = np.max(np.abs(f_prime(interval)))\n",
    "minus = -1 if np.max(f_prime(interval)) < 0 else 1 \n",
    "print(\"Q[2,3] =\", Q)\n",
    "k = round(Q / 2, 2) * minus\n",
    "print(\"K =\", k)\n",
    "\n",
    "# проверим условие сходимости функции\n",
    "TARGET_Q = 0.3\n",
    "while True:\n",
    "    G_prime = g_prime(k)\n",
    "    q = np.max(np.abs(G_prime(interval)))\n",
    "    if q < 1:\n",
    "        print(f'Условие сходимости для k={k} выполнено: q = {q}')\n",
    "        \n",
    "        if q > TARGET_Q:\n",
    "            print(f'Оптимизируем k для достижения меньшего числа итераций путем уменьшения целевого коэффициента q до {TARGET_Q} (выведен методом научного тыка)')\n",
    "\n",
    "        while q > TARGET_Q:\n",
    "            print(f'k={k}, q = {q}, увеличиваем k')\n",
    "            k = round(k * 1.1, 2)\n",
    "            G_prime = g_prime(k)\n",
    "            q = np.max(np.abs(G_prime(interval)))\n",
    "        \n",
    "        print(f'Найден оптимальный коэффициент k = {k}')\n",
    "        \n",
    "        break\n",
    "    else:\n",
    "        print(f'Условие сходимости для k={k} НЕ выполнено: q = {q}, увеличиваем k')\n",
    "        k *= 1.1\n",
    "\n",
    "# Определяем функцию преобразования g\n",
    "G = g(k)\n",
    "\n",
    "# Находим корень методом простых итераций\n",
    "root, table = simple_iteration_method(G, x0, epsilon)\n",
    "\n",
    "print('\\nТаблица итераций:')\n",
    "print(table)\n",
    "\n",
    "if root is not None:\n",
    "    print('\\nКорень найден:', root)\n",
    "    print('За', table.shape[0], 'итераций')\n",
    "    \n",
    "else:\n",
    "    print('\\nНе удалось найти корень с заданной точностью за максимальное количество итераций.')"
   ],
   "metadata": {
    "collapsed": false,
    "ExecuteTime": {
     "end_time": "2024-02-26T15:33:00.201898758Z",
     "start_time": "2024-02-26T15:33:00.181534219Z"
    }
   },
   "id": "7d81b18f876408ec",
   "execution_count": 114
  },
  {
   "cell_type": "code",
   "outputs": [
    {
     "name": "stdout",
     "output_type": "stream",
     "text": [
      "Найдено начальное приближение x0 = 2.4124124124124124\n",
      "\n",
      "Таблица итераций:\n",
      "     Отклонение         X             Y\n",
      "0 -8.213397e-04  2.411591 -8.591125e-08\n",
      "1 -9.338671e-08  2.411591 -1.161831e-15\n",
      "\n",
      "Корень найден: 2.411590979283026\n",
      "За 2 итераций\n",
      "\n",
      "\n",
      "Начальное приближение x0 = 2.0\n",
      "\n",
      "Таблица итераций:\n",
      "     Отклонение         X             Y\n",
      "0  4.545782e-01  2.454578 -3.977764e-02\n",
      "1 -4.274275e-02  2.411835 -2.249393e-04\n",
      "2 -2.444955e-04  2.411591 -7.616463e-09\n",
      "3 -8.279200e-09  2.411591  1.548241e-16\n",
      "\n",
      "Корень найден: 2.411590979283025\n",
      "За 4 итераций\n"
     ]
    }
   ],
   "source": [
    "def newton_method(f, f_prime, x0, epsilon=1e-6, max_iterations=1000):\n",
    "    df = pd.DataFrame(columns=['Отклонение', 'X', 'Y'])\n",
    "    \n",
    "    x_prev = x0\n",
    "    for iteration in range(max_iterations):\n",
    "        delta_x = -f(x_prev) / f_prime(x_prev)\n",
    "        x_next = x_prev + delta_x\n",
    "        deviation = x_next - x_prev\n",
    "        y = f(x_next)\n",
    "        \n",
    "        df.loc[iteration] = [deviation, x_next, y]\n",
    "\n",
    "        if abs(deviation) < epsilon:\n",
    "            return x_next, df\n",
    "        \n",
    "        x_prev = x_next\n",
    "\n",
    "    return None, df\n",
    "\n",
    "# Находим начальное приближение - точка где f(x)f(x)'' > 0\n",
    "x0 = f(interval) * f_double_prime(interval)\n",
    "x0 = interval[np.where(x0 > 0)][0]\n",
    "\n",
    "print('Найдено начальное приближение x0 =', x0)\n",
    "\n",
    "# точность\n",
    "epsilon = 1e-6\n",
    "\n",
    "# Находим корень методом Ньютона\n",
    "root, table = newton_method(f, f_prime, x0, epsilon)\n",
    "\n",
    "print('\\nТаблица итераций:')\n",
    "print(table)\n",
    "\n",
    "if root is not None:\n",
    "    print('\\nКорень найден:', root)\n",
    "    print('За', table.shape[0], 'итераций')\n",
    "\n",
    "else:\n",
    "    print('\\nНе удалось найти корень с заданной точностью за максимальное количество итераций.')\n",
    "    \n",
    "# Используем начальное приближение в начале интервала\n",
    "x0 = interval[0]\n",
    "# Находим корень методом Ньютона\n",
    "root, table = newton_method(f, f_prime, x0, epsilon)\n",
    "\n",
    "print('\\n\\nНачальное приближение x0 =', x0)\n",
    "print('\\nТаблица итераций:')\n",
    "print(table)\n",
    "\n",
    "if root is not None:\n",
    "    print('\\nКорень найден:', root)\n",
    "    print('За', table.shape[0], 'итераций')\n",
    "\n",
    "else:\n",
    "    print('\\nНе удалось найти корень с заданной точностью за максимальное количество итераций.')\n"
   ],
   "metadata": {
    "collapsed": false,
    "ExecuteTime": {
     "end_time": "2024-02-26T11:32:07.788092346Z",
     "start_time": "2024-02-26T11:32:07.771249592Z"
    }
   },
   "id": "ece83bfc0d39d7e7",
   "execution_count": 67
  },
  {
   "cell_type": "code",
   "outputs": [],
   "source": [],
   "metadata": {
    "collapsed": false
   },
   "id": "302317582e269009"
  }
 ],
 "metadata": {
  "kernelspec": {
   "display_name": "Python 3",
   "language": "python",
   "name": "python3"
  },
  "language_info": {
   "codemirror_mode": {
    "name": "ipython",
    "version": 2
   },
   "file_extension": ".py",
   "mimetype": "text/x-python",
   "name": "python",
   "nbconvert_exporter": "python",
   "pygments_lexer": "ipython2",
   "version": "2.7.6"
  }
 },
 "nbformat": 4,
 "nbformat_minor": 5
}
